{
 "metadata": {
  "name": "rf-simple-sentiment-api"
 },
 "nbformat": 3,
 "nbformat_minor": 0,
 "worksheets": [
  {
   "cells": [
    {
     "cell_type": "code",
     "collapsed": false,
     "input": [
      "%load_ext autoreload\n",
      "%autoreload 2\n",
      "import copper\n",
      "import numpy as np\n",
      "import pandas as pd\n",
      "copper.project.path = '..'"
     ],
     "language": "python",
     "metadata": {},
     "outputs": [],
     "prompt_number": 1
    },
    {
     "cell_type": "code",
     "collapsed": false,
     "input": [
      "train = copper.load('train-api.ds')"
     ],
     "language": "python",
     "metadata": {},
     "outputs": [],
     "prompt_number": 3
    },
    {
     "cell_type": "code",
     "collapsed": false,
     "input": [
      "train.columns"
     ],
     "language": "python",
     "metadata": {},
     "outputs": [
      {
       "output_type": "pyout",
       "prompt_number": 4,
       "text": [
        "array(['business_id', 'date', 'review_id', 'stars', 'user_id',\n",
        "       'votes_cool', 'votes_funny', 'votes_useful', 'user_average_stars',\n",
        "       'user_review_count', 'user_votes_cool', 'user_votes_funny',\n",
        "       'user_votes_useful', 'business_categories', 'business_city',\n",
        "       'business_full_address', 'business_latitude', 'business_longitude',\n",
        "       'business_open', 'business_review_count', 'business_stars',\n",
        "       'business_state', 'label', 'p_neg', 'p_pos', 'p_neu'], dtype=object)"
       ]
      }
     ],
     "prompt_number": 4
    },
    {
     "cell_type": "code",
     "collapsed": false,
     "input": [
      "train.role[:] = train.REJECTED"
     ],
     "language": "python",
     "metadata": {},
     "outputs": [],
     "prompt_number": 5
    },
    {
     "cell_type": "code",
     "collapsed": false,
     "input": [
      "train.role[['user_average_stars', 'user_review_count']] = train.INPUT"
     ],
     "language": "python",
     "metadata": {},
     "outputs": [],
     "prompt_number": 6
    },
    {
     "cell_type": "code",
     "collapsed": false,
     "input": [
      "train.role[['business_review_count', 'business_stars']] = train.INPUT"
     ],
     "language": "python",
     "metadata": {},
     "outputs": [],
     "prompt_number": 7
    },
    {
     "cell_type": "code",
     "collapsed": false,
     "input": [
      "train.role[['stars', 'p_pos', 'p_neu', 'label']] = train.INPUT"
     ],
     "language": "python",
     "metadata": {},
     "outputs": [],
     "prompt_number": 8
    },
    {
     "cell_type": "code",
     "collapsed": false,
     "input": [
      "train.role['votes_useful'] = train.TARGET"
     ],
     "language": "python",
     "metadata": {},
     "outputs": [],
     "prompt_number": 9
    },
    {
     "cell_type": "code",
     "collapsed": false,
     "input": [
      "train.metadata"
     ],
     "language": "python",
     "metadata": {},
     "outputs": [
      {
       "html": [
        "<div style=\"max-height:1000px;max-width:1500px;overflow:auto;\">\n",
        "<table border=\"1\" class=\"dataframe\">\n",
        "  <thead>\n",
        "    <tr style=\"text-align: right;\">\n",
        "      <th></th>\n",
        "      <th>Role</th>\n",
        "      <th>Type</th>\n",
        "      <th>dtype</th>\n",
        "    </tr>\n",
        "  </thead>\n",
        "  <tbody>\n",
        "    <tr>\n",
        "      <th>business_id</th>\n",
        "      <td> Reject</td>\n",
        "      <td> Category</td>\n",
        "      <td>  object</td>\n",
        "    </tr>\n",
        "    <tr>\n",
        "      <th>date</th>\n",
        "      <td> Reject</td>\n",
        "      <td> Category</td>\n",
        "      <td>  object</td>\n",
        "    </tr>\n",
        "    <tr>\n",
        "      <th>review_id</th>\n",
        "      <td> Reject</td>\n",
        "      <td> Category</td>\n",
        "      <td>  object</td>\n",
        "    </tr>\n",
        "    <tr>\n",
        "      <th>stars</th>\n",
        "      <td>  Input</td>\n",
        "      <td>   Number</td>\n",
        "      <td>   int64</td>\n",
        "    </tr>\n",
        "    <tr>\n",
        "      <th>user_id</th>\n",
        "      <td> Reject</td>\n",
        "      <td> Category</td>\n",
        "      <td>  object</td>\n",
        "    </tr>\n",
        "    <tr>\n",
        "      <th>votes_cool</th>\n",
        "      <td> Reject</td>\n",
        "      <td>   Number</td>\n",
        "      <td>   int64</td>\n",
        "    </tr>\n",
        "    <tr>\n",
        "      <th>votes_funny</th>\n",
        "      <td> Reject</td>\n",
        "      <td>   Number</td>\n",
        "      <td>   int64</td>\n",
        "    </tr>\n",
        "    <tr>\n",
        "      <th>votes_useful</th>\n",
        "      <td> Target</td>\n",
        "      <td>   Number</td>\n",
        "      <td>   int64</td>\n",
        "    </tr>\n",
        "    <tr>\n",
        "      <th>user_average_stars</th>\n",
        "      <td>  Input</td>\n",
        "      <td>   Number</td>\n",
        "      <td> float64</td>\n",
        "    </tr>\n",
        "    <tr>\n",
        "      <th>user_review_count</th>\n",
        "      <td>  Input</td>\n",
        "      <td>   Number</td>\n",
        "      <td> float64</td>\n",
        "    </tr>\n",
        "    <tr>\n",
        "      <th>user_votes_cool</th>\n",
        "      <td> Reject</td>\n",
        "      <td>   Number</td>\n",
        "      <td> float64</td>\n",
        "    </tr>\n",
        "    <tr>\n",
        "      <th>user_votes_funny</th>\n",
        "      <td> Reject</td>\n",
        "      <td>   Number</td>\n",
        "      <td> float64</td>\n",
        "    </tr>\n",
        "    <tr>\n",
        "      <th>user_votes_useful</th>\n",
        "      <td> Reject</td>\n",
        "      <td>   Number</td>\n",
        "      <td> float64</td>\n",
        "    </tr>\n",
        "    <tr>\n",
        "      <th>business_categories</th>\n",
        "      <td> Reject</td>\n",
        "      <td> Category</td>\n",
        "      <td>  object</td>\n",
        "    </tr>\n",
        "    <tr>\n",
        "      <th>business_city</th>\n",
        "      <td> Reject</td>\n",
        "      <td> Category</td>\n",
        "      <td>  object</td>\n",
        "    </tr>\n",
        "    <tr>\n",
        "      <th>business_full_address</th>\n",
        "      <td> Reject</td>\n",
        "      <td> Category</td>\n",
        "      <td>  object</td>\n",
        "    </tr>\n",
        "    <tr>\n",
        "      <th>business_latitude</th>\n",
        "      <td> Reject</td>\n",
        "      <td>   Number</td>\n",
        "      <td> float64</td>\n",
        "    </tr>\n",
        "    <tr>\n",
        "      <th>business_longitude</th>\n",
        "      <td> Reject</td>\n",
        "      <td>   Number</td>\n",
        "      <td> float64</td>\n",
        "    </tr>\n",
        "    <tr>\n",
        "      <th>business_open</th>\n",
        "      <td> Reject</td>\n",
        "      <td> Category</td>\n",
        "      <td>    bool</td>\n",
        "    </tr>\n",
        "    <tr>\n",
        "      <th>business_review_count</th>\n",
        "      <td>  Input</td>\n",
        "      <td>   Number</td>\n",
        "      <td>   int64</td>\n",
        "    </tr>\n",
        "    <tr>\n",
        "      <th>business_stars</th>\n",
        "      <td>  Input</td>\n",
        "      <td>   Number</td>\n",
        "      <td> float64</td>\n",
        "    </tr>\n",
        "    <tr>\n",
        "      <th>business_state</th>\n",
        "      <td> Reject</td>\n",
        "      <td> Category</td>\n",
        "      <td>  object</td>\n",
        "    </tr>\n",
        "    <tr>\n",
        "      <th>label</th>\n",
        "      <td>  Input</td>\n",
        "      <td> Category</td>\n",
        "      <td>  object</td>\n",
        "    </tr>\n",
        "    <tr>\n",
        "      <th>p_neg</th>\n",
        "      <td> Reject</td>\n",
        "      <td>   Number</td>\n",
        "      <td> float64</td>\n",
        "    </tr>\n",
        "    <tr>\n",
        "      <th>p_pos</th>\n",
        "      <td>  Input</td>\n",
        "      <td>   Number</td>\n",
        "      <td> float64</td>\n",
        "    </tr>\n",
        "    <tr>\n",
        "      <th>p_neu</th>\n",
        "      <td>  Input</td>\n",
        "      <td>   Number</td>\n",
        "      <td> float64</td>\n",
        "    </tr>\n",
        "  </tbody>\n",
        "</table>\n",
        "</div>"
       ],
       "output_type": "pyout",
       "prompt_number": 10,
       "text": [
        "                         Role      Type    dtype\n",
        "business_id            Reject  Category   object\n",
        "date                   Reject  Category   object\n",
        "review_id              Reject  Category   object\n",
        "stars                   Input    Number    int64\n",
        "user_id                Reject  Category   object\n",
        "votes_cool             Reject    Number    int64\n",
        "votes_funny            Reject    Number    int64\n",
        "votes_useful           Target    Number    int64\n",
        "user_average_stars      Input    Number  float64\n",
        "user_review_count       Input    Number  float64\n",
        "user_votes_cool        Reject    Number  float64\n",
        "user_votes_funny       Reject    Number  float64\n",
        "user_votes_useful      Reject    Number  float64\n",
        "business_categories    Reject  Category   object\n",
        "business_city          Reject  Category   object\n",
        "business_full_address  Reject  Category   object\n",
        "business_latitude      Reject    Number  float64\n",
        "business_longitude     Reject    Number  float64\n",
        "business_open          Reject  Category     bool\n",
        "business_review_count   Input    Number    int64\n",
        "business_stars          Input    Number  float64\n",
        "business_state         Reject  Category   object\n",
        "label                   Input  Category   object\n",
        "p_neg                  Reject    Number  float64\n",
        "p_pos                   Input    Number  float64\n",
        "p_neu                   Input    Number  float64"
       ]
      }
     ],
     "prompt_number": 10
    },
    {
     "cell_type": "code",
     "collapsed": false,
     "input": [
      "mc = copper.ModelComparison()"
     ],
     "language": "python",
     "metadata": {},
     "outputs": [],
     "prompt_number": 11
    },
    {
     "cell_type": "code",
     "collapsed": false,
     "input": [
      "mc.sample(train, 0.5)"
     ],
     "language": "python",
     "metadata": {},
     "outputs": [],
     "prompt_number": 12
    },
    {
     "cell_type": "code",
     "collapsed": false,
     "input": [
      "from PyWiseRF import WiseRF"
     ],
     "language": "python",
     "metadata": {},
     "outputs": [],
     "prompt_number": 13
    },
    {
     "cell_type": "code",
     "collapsed": false,
     "input": [
      "rf = WiseRF(n_estimators=10, n_jobs=4)"
     ],
     "language": "python",
     "metadata": {},
     "outputs": [],
     "prompt_number": 14
    },
    {
     "cell_type": "code",
     "collapsed": false,
     "input": [
      "mc.add_clf(rf, 'wiserf')"
     ],
     "language": "python",
     "metadata": {},
     "outputs": [],
     "prompt_number": 15
    },
    {
     "cell_type": "code",
     "collapsed": false,
     "input": [
      "from sklearn.ensemble import ExtraTreesRegressor"
     ],
     "language": "python",
     "metadata": {},
     "outputs": [],
     "prompt_number": 16
    },
    {
     "cell_type": "code",
     "collapsed": false,
     "input": [
      "etr = ExtraTreesRegressor(n_estimators=10, n_jobs=4)"
     ],
     "language": "python",
     "metadata": {},
     "outputs": [],
     "prompt_number": 17
    },
    {
     "cell_type": "code",
     "collapsed": false,
     "input": [
      "mc.add_clf(etr, 'etr')"
     ],
     "language": "python",
     "metadata": {},
     "outputs": [],
     "prompt_number": 18
    },
    {
     "cell_type": "code",
     "collapsed": false,
     "input": [
      "from sklearn.ensemble import RandomForestRegressor"
     ],
     "language": "python",
     "metadata": {},
     "outputs": [],
     "prompt_number": 19
    },
    {
     "cell_type": "code",
     "collapsed": false,
     "input": [
      "rfr = RandomForestRegressor(n_estimators=10, n_jobs=4)"
     ],
     "language": "python",
     "metadata": {},
     "outputs": [],
     "prompt_number": 20
    },
    {
     "cell_type": "code",
     "collapsed": false,
     "input": [
      "mc.add_clf(rfr, 'rfr')"
     ],
     "language": "python",
     "metadata": {},
     "outputs": [],
     "prompt_number": 21
    },
    {
     "cell_type": "code",
     "collapsed": false,
     "input": [
      "mc.fit()"
     ],
     "language": "python",
     "metadata": {},
     "outputs": [],
     "prompt_number": 22
    },
    {
     "cell_type": "code",
     "collapsed": false,
     "input": [
      "mc.rmsle()"
     ],
     "language": "python",
     "metadata": {},
     "outputs": [
      {
       "output_type": "pyout",
       "prompt_number": 23,
       "text": [
        "rfr       0.689250\n",
        "etr       0.691547\n",
        "wiserf    0.799397\n",
        "Name: RMSLE"
       ]
      }
     ],
     "prompt_number": 23
    },
    {
     "cell_type": "code",
     "collapsed": false,
     "input": [
      "mc.mse()"
     ],
     "language": "python",
     "metadata": {},
     "outputs": [
      {
       "output_type": "pyout",
       "prompt_number": 25,
       "text": [
        "rfr       5.848613\n",
        "etr       5.922343\n",
        "wiserf    6.630125\n",
        "Name: Mean Squared Error"
       ]
      }
     ],
     "prompt_number": 25
    },
    {
     "cell_type": "code",
     "collapsed": false,
     "input": [
      "mc.accuracy()"
     ],
     "language": "python",
     "metadata": {},
     "outputs": [
      {
       "output_type": "pyout",
       "prompt_number": 26,
       "text": [
        "wiserf    0.349055\n",
        "rfr      -0.026250\n",
        "etr      -0.039187\n",
        "Name: Accuracy"
       ]
      }
     ],
     "prompt_number": 26
    },
    {
     "cell_type": "heading",
     "level": 2,
     "metadata": {},
     "source": [
      "Score"
     ]
    },
    {
     "cell_type": "code",
     "collapsed": false,
     "input": [
      "test = copper.load('test.ds')"
     ],
     "language": "python",
     "metadata": {},
     "outputs": [],
     "prompt_number": 59
    },
    {
     "cell_type": "code",
     "collapsed": false,
     "input": [
      "test.match(train)"
     ],
     "language": "python",
     "metadata": {},
     "outputs": [],
     "prompt_number": 60
    },
    {
     "cell_type": "code",
     "collapsed": false,
     "input": [
      "test.metadata"
     ],
     "language": "python",
     "metadata": {},
     "outputs": [
      {
       "html": [
        "<div style=\"max-height:1000px;max-width:1500px;overflow:auto;\">\n",
        "<table border=\"1\" class=\"dataframe\">\n",
        "  <thead>\n",
        "    <tr style=\"text-align: right;\">\n",
        "      <th></th>\n",
        "      <th>Role</th>\n",
        "      <th>Type</th>\n",
        "      <th>dtype</th>\n",
        "    </tr>\n",
        "  </thead>\n",
        "  <tbody>\n",
        "    <tr>\n",
        "      <th>date</th>\n",
        "      <td> Reject</td>\n",
        "      <td> Category</td>\n",
        "      <td>  object</td>\n",
        "    </tr>\n",
        "    <tr>\n",
        "      <th>stars</th>\n",
        "      <td>  Input</td>\n",
        "      <td>   Number</td>\n",
        "      <td>   int64</td>\n",
        "    </tr>\n",
        "    <tr>\n",
        "      <th>text</th>\n",
        "      <td> Reject</td>\n",
        "      <td> Category</td>\n",
        "      <td>  object</td>\n",
        "    </tr>\n",
        "    <tr>\n",
        "      <th>user_average_stars</th>\n",
        "      <td>  Input</td>\n",
        "      <td>   Number</td>\n",
        "      <td> float64</td>\n",
        "    </tr>\n",
        "    <tr>\n",
        "      <th>user_review_count</th>\n",
        "      <td>  Input</td>\n",
        "      <td>   Number</td>\n",
        "      <td> float64</td>\n",
        "    </tr>\n",
        "    <tr>\n",
        "      <th>business_categories</th>\n",
        "      <td> Reject</td>\n",
        "      <td> Category</td>\n",
        "      <td>  object</td>\n",
        "    </tr>\n",
        "    <tr>\n",
        "      <th>business_city</th>\n",
        "      <td> Reject</td>\n",
        "      <td> Category</td>\n",
        "      <td>  object</td>\n",
        "    </tr>\n",
        "    <tr>\n",
        "      <th>business_full_address</th>\n",
        "      <td> Reject</td>\n",
        "      <td> Category</td>\n",
        "      <td>  object</td>\n",
        "    </tr>\n",
        "    <tr>\n",
        "      <th>business_latitude</th>\n",
        "      <td> Reject</td>\n",
        "      <td>   Number</td>\n",
        "      <td> float64</td>\n",
        "    </tr>\n",
        "    <tr>\n",
        "      <th>business_longitude</th>\n",
        "      <td> Reject</td>\n",
        "      <td>   Number</td>\n",
        "      <td> float64</td>\n",
        "    </tr>\n",
        "    <tr>\n",
        "      <th>business_open</th>\n",
        "      <td> Reject</td>\n",
        "      <td> Category</td>\n",
        "      <td>  object</td>\n",
        "    </tr>\n",
        "    <tr>\n",
        "      <th>business_review_count</th>\n",
        "      <td>  Input</td>\n",
        "      <td>   Number</td>\n",
        "      <td> float64</td>\n",
        "    </tr>\n",
        "    <tr>\n",
        "      <th>business_stars</th>\n",
        "      <td>  Input</td>\n",
        "      <td>   Number</td>\n",
        "      <td> float64</td>\n",
        "    </tr>\n",
        "    <tr>\n",
        "      <th>business_state</th>\n",
        "      <td> Reject</td>\n",
        "      <td> Category</td>\n",
        "      <td>  object</td>\n",
        "    </tr>\n",
        "    <tr>\n",
        "      <th>pos</th>\n",
        "      <td>  Input</td>\n",
        "      <td>   Number</td>\n",
        "      <td> float64</td>\n",
        "    </tr>\n",
        "  </tbody>\n",
        "</table>\n",
        "</div>"
       ],
       "output_type": "pyout",
       "prompt_number": 61,
       "text": [
        "                         Role      Type    dtype\n",
        "date                   Reject  Category   object\n",
        "stars                   Input    Number    int64\n",
        "text                   Reject  Category   object\n",
        "user_average_stars      Input    Number  float64\n",
        "user_review_count       Input    Number  float64\n",
        "business_categories    Reject  Category   object\n",
        "business_city          Reject  Category   object\n",
        "business_full_address  Reject  Category   object\n",
        "business_latitude      Reject    Number  float64\n",
        "business_longitude     Reject    Number  float64\n",
        "business_open          Reject  Category   object\n",
        "business_review_count   Input    Number  float64\n",
        "business_stars          Input    Number  float64\n",
        "business_state         Reject  Category   object\n",
        "pos                     Input    Number  float64"
       ]
      }
     ],
     "prompt_number": 61
    },
    {
     "cell_type": "code",
     "collapsed": false,
     "input": [
      "mc = copper.ModelComparison()"
     ],
     "language": "python",
     "metadata": {},
     "outputs": [],
     "prompt_number": 62
    },
    {
     "cell_type": "code",
     "collapsed": false,
     "input": [
      "mc.add_clf(rfr, 'clf')"
     ],
     "language": "python",
     "metadata": {},
     "outputs": [],
     "prompt_number": 63
    },
    {
     "cell_type": "code",
     "collapsed": false,
     "input": [
      "mc.set_train(train)"
     ],
     "language": "python",
     "metadata": {},
     "outputs": [],
     "prompt_number": 64
    },
    {
     "cell_type": "code",
     "collapsed": false,
     "input": [
      "mc.set_test(test)"
     ],
     "language": "python",
     "metadata": {},
     "outputs": [],
     "prompt_number": 65
    },
    {
     "cell_type": "code",
     "collapsed": false,
     "input": [
      "mc.fit()"
     ],
     "language": "python",
     "metadata": {},
     "outputs": [],
     "prompt_number": 66
    },
    {
     "cell_type": "code",
     "collapsed": false,
     "input": [
      "pred = mc.predict()"
     ],
     "language": "python",
     "metadata": {},
     "outputs": [],
     "prompt_number": 67
    },
    {
     "cell_type": "code",
     "collapsed": false,
     "input": [
      "copper.save(pred, 'rfr_simple_sentiment.csv', to='predictions', header=False, index=False)"
     ],
     "language": "python",
     "metadata": {},
     "outputs": [],
     "prompt_number": 68
    },
    {
     "cell_type": "code",
     "collapsed": false,
     "input": [],
     "language": "python",
     "metadata": {},
     "outputs": []
    }
   ],
   "metadata": {}
  }
 ]
}