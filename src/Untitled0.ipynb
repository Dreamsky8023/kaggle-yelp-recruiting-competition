{
 "metadata": {
  "name": "Untitled0"
 },
 "nbformat": 3,
 "nbformat_minor": 0,
 "worksheets": [
  {
   "cells": [
    {
     "cell_type": "code",
     "collapsed": false,
     "input": [
      "import copper\n",
      "import numpy as np\n",
      "import pandas as pd\n",
      "copper.project.path = '..'"
     ],
     "language": "python",
     "metadata": {},
     "outputs": [],
     "prompt_number": 76
    },
    {
     "cell_type": "code",
     "collapsed": false,
     "input": [
      "import requests"
     ],
     "language": "python",
     "metadata": {},
     "outputs": [],
     "prompt_number": 2
    },
    {
     "cell_type": "heading",
     "level": 2,
     "metadata": {},
     "source": [
      "Test API"
     ]
    },
    {
     "cell_type": "code",
     "collapsed": false,
     "input": [
      "params = {'text': 'great'}"
     ],
     "language": "python",
     "metadata": {},
     "outputs": [],
     "prompt_number": 3
    },
    {
     "cell_type": "code",
     "collapsed": false,
     "input": [
      "r = requests.post(\"http://text-processing.com/api/sentiment/\", data=params)"
     ],
     "language": "python",
     "metadata": {},
     "outputs": [],
     "prompt_number": 11
    },
    {
     "cell_type": "code",
     "collapsed": false,
     "input": [
      "r.status_code"
     ],
     "language": "python",
     "metadata": {},
     "outputs": [
      {
       "output_type": "pyout",
       "prompt_number": 12,
       "text": [
        "200"
       ]
      }
     ],
     "prompt_number": 12
    },
    {
     "cell_type": "code",
     "collapsed": false,
     "input": [
      "r.json"
     ],
     "language": "python",
     "metadata": {},
     "outputs": [
      {
       "output_type": "pyout",
       "prompt_number": 42,
       "text": [
        "{u'label': u'neg',\n",
        " u'probability': {u'neg': 0.5764440621345253,\n",
        "  u'neutral': 0.4628879693248789,\n",
        "  u'pos': 0.4235559378654748}}"
       ]
      }
     ],
     "prompt_number": 42
    },
    {
     "cell_type": "heading",
     "level": 2,
     "metadata": {},
     "source": [
      "lets go baby!"
     ]
    },
    {
     "cell_type": "code",
     "collapsed": false,
     "input": [
      "train = copper.read_csv('training/review.csv')"
     ],
     "language": "python",
     "metadata": {},
     "outputs": [],
     "prompt_number": 24
    },
    {
     "cell_type": "code",
     "collapsed": false,
     "input": [
      "probas = pd.DataFrame(index=train.index, columns=['label', 'p_neg', 'p_pos', 'p_neu'])"
     ],
     "language": "python",
     "metadata": {},
     "outputs": [],
     "prompt_number": 38
    },
    {
     "cell_type": "code",
     "collapsed": false,
     "input": [
      "for i, text in train['text'][1500:2500].iteritems():\n",
      "    params = {'text': text}\n",
      "    r = requests.post(\"http://text-processing.com/api/sentiment/\", data=params)\n",
      "    probas['label'][i] = r.json['label']\n",
      "    probas['p_neg'][i] = r.json['probability']['neg']\n",
      "    probas['p_pos'][i] = r.json['probability']['pos']\n",
      "    probas['p_neu'][i] = r.json['probability']['neutral']"
     ],
     "language": "python",
     "metadata": {},
     "outputs": [],
     "prompt_number": 98
    },
    {
     "cell_type": "code",
     "collapsed": false,
     "input": [
      "probas.dropna().tail()"
     ],
     "language": "python",
     "metadata": {},
     "outputs": [
      {
       "html": [
        "<div style=\"max-height:1000px;max-width:1500px;overflow:auto;\">\n",
        "<table border=\"1\" class=\"dataframe\">\n",
        "  <thead>\n",
        "    <tr style=\"text-align: right;\">\n",
        "      <th></th>\n",
        "      <th>label</th>\n",
        "      <th>p_neg</th>\n",
        "      <th>p_pos</th>\n",
        "      <th>p_neu</th>\n",
        "    </tr>\n",
        "  </thead>\n",
        "  <tbody>\n",
        "    <tr>\n",
        "      <th>2495</th>\n",
        "      <td> neutral</td>\n",
        "      <td>  0.4959055</td>\n",
        "      <td> 0.5040945</td>\n",
        "      <td> 0.7114141</td>\n",
        "    </tr>\n",
        "    <tr>\n",
        "      <th>2496</th>\n",
        "      <td>     neg</td>\n",
        "      <td>  0.8293398</td>\n",
        "      <td> 0.1706602</td>\n",
        "      <td> 0.1058932</td>\n",
        "    </tr>\n",
        "    <tr>\n",
        "      <th>2497</th>\n",
        "      <td>     pos</td>\n",
        "      <td> 0.08091738</td>\n",
        "      <td> 0.9190826</td>\n",
        "      <td> 0.1277223</td>\n",
        "    </tr>\n",
        "    <tr>\n",
        "      <th>2498</th>\n",
        "      <td> neutral</td>\n",
        "      <td>  0.3476466</td>\n",
        "      <td> 0.6523534</td>\n",
        "      <td> 0.5485752</td>\n",
        "    </tr>\n",
        "    <tr>\n",
        "      <th>2499</th>\n",
        "      <td>     neg</td>\n",
        "      <td>  0.6215907</td>\n",
        "      <td> 0.3784093</td>\n",
        "      <td> 0.2434458</td>\n",
        "    </tr>\n",
        "  </tbody>\n",
        "</table>\n",
        "</div>"
       ],
       "output_type": "pyout",
       "prompt_number": 99,
       "text": [
        "        label       p_neg      p_pos      p_neu\n",
        "2495  neutral   0.4959055  0.5040945  0.7114141\n",
        "2496      neg   0.8293398  0.1706602  0.1058932\n",
        "2497      pos  0.08091738  0.9190826  0.1277223\n",
        "2498  neutral   0.3476466  0.6523534  0.5485752\n",
        "2499      neg   0.6215907  0.3784093  0.2434458"
       ]
      }
     ],
     "prompt_number": 99
    },
    {
     "cell_type": "code",
     "collapsed": false,
     "input": [
      "copper.save(probas.dropna(), 'nltk.csv')"
     ],
     "language": "python",
     "metadata": {},
     "outputs": [],
     "prompt_number": 100
    },
    {
     "cell_type": "code",
     "collapsed": false,
     "input": [],
     "language": "python",
     "metadata": {},
     "outputs": []
    }
   ],
   "metadata": {}
  }
 ]
}