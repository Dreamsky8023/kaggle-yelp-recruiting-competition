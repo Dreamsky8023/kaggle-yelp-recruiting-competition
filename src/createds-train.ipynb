{
 "metadata": {
  "name": "createds-train"
 },
 "nbformat": 3,
 "nbformat_minor": 0,
 "worksheets": [
  {
   "cells": [
    {
     "cell_type": "code",
     "collapsed": false,
     "input": [
      "import copper\n",
      "import numpy as np\n",
      "import pandas as pd\n",
      "copper.project.path = '..'"
     ],
     "language": "python",
     "metadata": {},
     "outputs": [],
     "prompt_number": 1
    },
    {
     "cell_type": "code",
     "collapsed": false,
     "input": [
      "users = copper.read_csv('training/user.csv')"
     ],
     "language": "python",
     "metadata": {},
     "outputs": [],
     "prompt_number": 2
    },
    {
     "cell_type": "code",
     "collapsed": false,
     "input": [
      "users"
     ],
     "language": "python",
     "metadata": {},
     "outputs": [
      {
       "output_type": "pyout",
       "prompt_number": 3,
       "text": [
        "<class 'pandas.core.frame.DataFrame'>\n",
        "Int64Index: 43873 entries, 0 to 43872\n",
        "Data columns:\n",
        "average_stars    43873  non-null values\n",
        "name             43873  non-null values\n",
        "review_count     43873  non-null values\n",
        "type             43873  non-null values\n",
        "user_id          43873  non-null values\n",
        "votes_cool       43873  non-null values\n",
        "votes_funny      43873  non-null values\n",
        "votes_useful     43873  non-null values\n",
        "dtypes: float64(1), int64(4), object(3)"
       ]
      }
     ],
     "prompt_number": 3
    },
    {
     "cell_type": "code",
     "collapsed": false,
     "input": [
      "del users['name']\n",
      "del users['type']"
     ],
     "language": "python",
     "metadata": {},
     "outputs": [],
     "prompt_number": 4
    },
    {
     "cell_type": "code",
     "collapsed": false,
     "input": [
      "users.columns = ['user_%s' % col for col in users.columns]"
     ],
     "language": "python",
     "metadata": {},
     "outputs": [],
     "prompt_number": 5
    },
    {
     "cell_type": "code",
     "collapsed": false,
     "input": [
      "users['user_id'] = users['user_user_id']\n",
      "del users['user_user_id']"
     ],
     "language": "python",
     "metadata": {},
     "outputs": [],
     "prompt_number": 6
    },
    {
     "cell_type": "code",
     "collapsed": false,
     "input": [
      "users"
     ],
     "language": "python",
     "metadata": {},
     "outputs": [
      {
       "output_type": "pyout",
       "prompt_number": 7,
       "text": [
        "<class 'pandas.core.frame.DataFrame'>\n",
        "Int64Index: 43873 entries, 0 to 43872\n",
        "Data columns:\n",
        "user_average_stars    43873  non-null values\n",
        "user_review_count     43873  non-null values\n",
        "user_votes_cool       43873  non-null values\n",
        "user_votes_funny      43873  non-null values\n",
        "user_votes_useful     43873  non-null values\n",
        "user_id               43873  non-null values\n",
        "dtypes: float64(1), int64(4), object(1)"
       ]
      }
     ],
     "prompt_number": 7
    },
    {
     "cell_type": "code",
     "collapsed": false,
     "input": [
      "business = copper.read_csv('training/business.csv')"
     ],
     "language": "python",
     "metadata": {},
     "outputs": [],
     "prompt_number": 8
    },
    {
     "cell_type": "code",
     "collapsed": false,
     "input": [
      "business"
     ],
     "language": "python",
     "metadata": {},
     "outputs": [
      {
       "output_type": "pyout",
       "prompt_number": 9,
       "text": [
        "<class 'pandas.core.frame.DataFrame'>\n",
        "Int64Index: 11537 entries, 0 to 11536\n",
        "Data columns:\n",
        "business_id      11537  non-null values\n",
        "categories       11360  non-null values\n",
        "city             11537  non-null values\n",
        "full_address     11537  non-null values\n",
        "latitude         11537  non-null values\n",
        "longitude        11537  non-null values\n",
        "name             11537  non-null values\n",
        "neighborhoods    0  non-null values\n",
        "open             11537  non-null values\n",
        "review_count     11537  non-null values\n",
        "stars            11537  non-null values\n",
        "state            11537  non-null values\n",
        "type             11537  non-null values\n",
        "dtypes: bool(1), float64(4), int64(1), object(7)"
       ]
      }
     ],
     "prompt_number": 9
    },
    {
     "cell_type": "code",
     "collapsed": false,
     "input": [
      "del business['name']\n",
      "del business['type']\n",
      "del business['neighborhoods']"
     ],
     "language": "python",
     "metadata": {},
     "outputs": [],
     "prompt_number": 10
    },
    {
     "cell_type": "code",
     "collapsed": false,
     "input": [
      "business.columns = ['business_%s' % col for col in business.columns]"
     ],
     "language": "python",
     "metadata": {},
     "outputs": [],
     "prompt_number": 11
    },
    {
     "cell_type": "code",
     "collapsed": false,
     "input": [
      "business['business_id'] = business['business_business_id']\n",
      "del business['business_business_id']"
     ],
     "language": "python",
     "metadata": {},
     "outputs": [],
     "prompt_number": 12
    },
    {
     "cell_type": "code",
     "collapsed": false,
     "input": [
      "business"
     ],
     "language": "python",
     "metadata": {},
     "outputs": [
      {
       "output_type": "pyout",
       "prompt_number": 13,
       "text": [
        "<class 'pandas.core.frame.DataFrame'>\n",
        "Int64Index: 11537 entries, 0 to 11536\n",
        "Data columns:\n",
        "business_categories      11360  non-null values\n",
        "business_city            11537  non-null values\n",
        "business_full_address    11537  non-null values\n",
        "business_latitude        11537  non-null values\n",
        "business_longitude       11537  non-null values\n",
        "business_open            11537  non-null values\n",
        "business_review_count    11537  non-null values\n",
        "business_stars           11537  non-null values\n",
        "business_state           11537  non-null values\n",
        "business_id              11537  non-null values\n",
        "dtypes: bool(1), float64(3), int64(1), object(5)"
       ]
      }
     ],
     "prompt_number": 13
    },
    {
     "cell_type": "code",
     "collapsed": false,
     "input": [
      "reviews = copper.read_csv('training/review.csv')"
     ],
     "language": "python",
     "metadata": {},
     "outputs": [],
     "prompt_number": 14
    },
    {
     "cell_type": "code",
     "collapsed": false,
     "input": [
      "reviews"
     ],
     "language": "python",
     "metadata": {},
     "outputs": [
      {
       "output_type": "pyout",
       "prompt_number": 15,
       "text": [
        "<class 'pandas.core.frame.DataFrame'>\n",
        "Int64Index: 229907 entries, 0 to 229906\n",
        "Data columns:\n",
        "business_id     229907  non-null values\n",
        "date            229907  non-null values\n",
        "review_id       229907  non-null values\n",
        "stars           229907  non-null values\n",
        "text            229901  non-null values\n",
        "type            229907  non-null values\n",
        "user_id         229907  non-null values\n",
        "votes_cool      229907  non-null values\n",
        "votes_funny     229907  non-null values\n",
        "votes_useful    229907  non-null values\n",
        "dtypes: int64(4), object(6)"
       ]
      }
     ],
     "prompt_number": 15
    },
    {
     "cell_type": "code",
     "collapsed": false,
     "input": [
      "del reviews['type']"
     ],
     "language": "python",
     "metadata": {},
     "outputs": [],
     "prompt_number": 16
    },
    {
     "cell_type": "code",
     "collapsed": false,
     "input": [
      "reviews = pd.merge(reviews, users, on='user_id')"
     ],
     "language": "python",
     "metadata": {},
     "outputs": [],
     "prompt_number": 17
    },
    {
     "cell_type": "code",
     "collapsed": false,
     "input": [
      "reviews = pd.merge(reviews, business, on='business_id')"
     ],
     "language": "python",
     "metadata": {},
     "outputs": [],
     "prompt_number": 18
    },
    {
     "cell_type": "code",
     "collapsed": false,
     "input": [
      "reviews = reviews.dropna()"
     ],
     "language": "python",
     "metadata": {},
     "outputs": [],
     "prompt_number": 22
    },
    {
     "cell_type": "code",
     "collapsed": false,
     "input": [
      "reviews"
     ],
     "language": "python",
     "metadata": {},
     "outputs": [
      {
       "output_type": "pyout",
       "prompt_number": 23,
       "text": [
        "<class 'pandas.core.frame.DataFrame'>\n",
        "Int64Index: 215168 entries, 0 to 215878\n",
        "Data columns:\n",
        "business_id              215168  non-null values\n",
        "date                     215168  non-null values\n",
        "review_id                215168  non-null values\n",
        "stars                    215168  non-null values\n",
        "text                     215168  non-null values\n",
        "user_id                  215168  non-null values\n",
        "votes_cool               215168  non-null values\n",
        "votes_funny              215168  non-null values\n",
        "votes_useful             215168  non-null values\n",
        "user_average_stars       215168  non-null values\n",
        "user_review_count        215168  non-null values\n",
        "user_votes_cool          215168  non-null values\n",
        "user_votes_funny         215168  non-null values\n",
        "user_votes_useful        215168  non-null values\n",
        "business_categories      215168  non-null values\n",
        "business_city            215168  non-null values\n",
        "business_full_address    215168  non-null values\n",
        "business_latitude        215168  non-null values\n",
        "business_longitude       215168  non-null values\n",
        "business_open            215168  non-null values\n",
        "business_review_count    215168  non-null values\n",
        "business_stars           215168  non-null values\n",
        "business_state           215168  non-null values\n",
        "dtypes: bool(1), float64(4), int64(9), object(9)"
       ]
      }
     ],
     "prompt_number": 23
    },
    {
     "cell_type": "code",
     "collapsed": false,
     "input": [
      "ds = copper.Dataset(reviews)"
     ],
     "language": "python",
     "metadata": {},
     "outputs": [],
     "prompt_number": 24
    },
    {
     "cell_type": "code",
     "collapsed": false,
     "input": [
      "ds.role[['business_id', 'user_id', 'review_id']] = ds.ID"
     ],
     "language": "python",
     "metadata": {},
     "outputs": [],
     "prompt_number": 27
    },
    {
     "cell_type": "code",
     "collapsed": false,
     "input": [
      "ds.metadata"
     ],
     "language": "python",
     "metadata": {},
     "outputs": [
      {
       "html": [
        "<div style=\"max-height:1000px;max-width:1500px;overflow:auto;\">\n",
        "<table border=\"1\" class=\"dataframe\">\n",
        "  <thead>\n",
        "    <tr style=\"text-align: right;\">\n",
        "      <th></th>\n",
        "      <th>Role</th>\n",
        "      <th>Type</th>\n",
        "      <th>dtype</th>\n",
        "    </tr>\n",
        "  </thead>\n",
        "  <tbody>\n",
        "    <tr>\n",
        "      <th>business_id</th>\n",
        "      <td>    ID</td>\n",
        "      <td> Category</td>\n",
        "      <td>  object</td>\n",
        "    </tr>\n",
        "    <tr>\n",
        "      <th>date</th>\n",
        "      <td> Input</td>\n",
        "      <td> Category</td>\n",
        "      <td>  object</td>\n",
        "    </tr>\n",
        "    <tr>\n",
        "      <th>review_id</th>\n",
        "      <td>    ID</td>\n",
        "      <td> Category</td>\n",
        "      <td>  object</td>\n",
        "    </tr>\n",
        "    <tr>\n",
        "      <th>stars</th>\n",
        "      <td> Input</td>\n",
        "      <td>   Number</td>\n",
        "      <td>   int64</td>\n",
        "    </tr>\n",
        "    <tr>\n",
        "      <th>text</th>\n",
        "      <td> Input</td>\n",
        "      <td> Category</td>\n",
        "      <td>  object</td>\n",
        "    </tr>\n",
        "    <tr>\n",
        "      <th>user_id</th>\n",
        "      <td>    ID</td>\n",
        "      <td> Category</td>\n",
        "      <td>  object</td>\n",
        "    </tr>\n",
        "    <tr>\n",
        "      <th>votes_cool</th>\n",
        "      <td> Input</td>\n",
        "      <td>   Number</td>\n",
        "      <td>   int64</td>\n",
        "    </tr>\n",
        "    <tr>\n",
        "      <th>votes_funny</th>\n",
        "      <td> Input</td>\n",
        "      <td>   Number</td>\n",
        "      <td>   int64</td>\n",
        "    </tr>\n",
        "    <tr>\n",
        "      <th>votes_useful</th>\n",
        "      <td> Input</td>\n",
        "      <td>   Number</td>\n",
        "      <td>   int64</td>\n",
        "    </tr>\n",
        "    <tr>\n",
        "      <th>user_average_stars</th>\n",
        "      <td> Input</td>\n",
        "      <td>   Number</td>\n",
        "      <td> float64</td>\n",
        "    </tr>\n",
        "    <tr>\n",
        "      <th>user_review_count</th>\n",
        "      <td> Input</td>\n",
        "      <td>   Number</td>\n",
        "      <td>   int64</td>\n",
        "    </tr>\n",
        "    <tr>\n",
        "      <th>user_votes_cool</th>\n",
        "      <td> Input</td>\n",
        "      <td>   Number</td>\n",
        "      <td>   int64</td>\n",
        "    </tr>\n",
        "    <tr>\n",
        "      <th>user_votes_funny</th>\n",
        "      <td> Input</td>\n",
        "      <td>   Number</td>\n",
        "      <td>   int64</td>\n",
        "    </tr>\n",
        "    <tr>\n",
        "      <th>user_votes_useful</th>\n",
        "      <td> Input</td>\n",
        "      <td>   Number</td>\n",
        "      <td>   int64</td>\n",
        "    </tr>\n",
        "    <tr>\n",
        "      <th>business_categories</th>\n",
        "      <td> Input</td>\n",
        "      <td> Category</td>\n",
        "      <td>  object</td>\n",
        "    </tr>\n",
        "    <tr>\n",
        "      <th>business_city</th>\n",
        "      <td> Input</td>\n",
        "      <td> Category</td>\n",
        "      <td>  object</td>\n",
        "    </tr>\n",
        "    <tr>\n",
        "      <th>business_full_address</th>\n",
        "      <td> Input</td>\n",
        "      <td> Category</td>\n",
        "      <td>  object</td>\n",
        "    </tr>\n",
        "    <tr>\n",
        "      <th>business_latitude</th>\n",
        "      <td> Input</td>\n",
        "      <td>   Number</td>\n",
        "      <td> float64</td>\n",
        "    </tr>\n",
        "    <tr>\n",
        "      <th>business_longitude</th>\n",
        "      <td> Input</td>\n",
        "      <td>   Number</td>\n",
        "      <td> float64</td>\n",
        "    </tr>\n",
        "    <tr>\n",
        "      <th>business_open</th>\n",
        "      <td> Input</td>\n",
        "      <td> Category</td>\n",
        "      <td>    bool</td>\n",
        "    </tr>\n",
        "    <tr>\n",
        "      <th>business_review_count</th>\n",
        "      <td> Input</td>\n",
        "      <td>   Number</td>\n",
        "      <td>   int64</td>\n",
        "    </tr>\n",
        "    <tr>\n",
        "      <th>business_stars</th>\n",
        "      <td> Input</td>\n",
        "      <td>   Number</td>\n",
        "      <td> float64</td>\n",
        "    </tr>\n",
        "    <tr>\n",
        "      <th>business_state</th>\n",
        "      <td> Input</td>\n",
        "      <td> Category</td>\n",
        "      <td>  object</td>\n",
        "    </tr>\n",
        "  </tbody>\n",
        "</table>\n",
        "</div>"
       ],
       "output_type": "pyout",
       "prompt_number": 28,
       "text": [
        "                        Role      Type    dtype\n",
        "business_id               ID  Category   object\n",
        "date                   Input  Category   object\n",
        "review_id                 ID  Category   object\n",
        "stars                  Input    Number    int64\n",
        "text                   Input  Category   object\n",
        "user_id                   ID  Category   object\n",
        "votes_cool             Input    Number    int64\n",
        "votes_funny            Input    Number    int64\n",
        "votes_useful           Input    Number    int64\n",
        "user_average_stars     Input    Number  float64\n",
        "user_review_count      Input    Number    int64\n",
        "user_votes_cool        Input    Number    int64\n",
        "user_votes_funny       Input    Number    int64\n",
        "user_votes_useful      Input    Number    int64\n",
        "business_categories    Input  Category   object\n",
        "business_city          Input  Category   object\n",
        "business_full_address  Input  Category   object\n",
        "business_latitude      Input    Number  float64\n",
        "business_longitude     Input    Number  float64\n",
        "business_open          Input  Category     bool\n",
        "business_review_count  Input    Number    int64\n",
        "business_stars         Input    Number  float64\n",
        "business_state         Input  Category   object"
       ]
      }
     ],
     "prompt_number": 28
    },
    {
     "cell_type": "code",
     "collapsed": false,
     "input": [
      "ds.save('train.ds')"
     ],
     "language": "python",
     "metadata": {},
     "outputs": [],
     "prompt_number": 29
    },
    {
     "cell_type": "code",
     "collapsed": false,
     "input": [],
     "language": "python",
     "metadata": {},
     "outputs": []
    }
   ],
   "metadata": {}
  }
 ]
}