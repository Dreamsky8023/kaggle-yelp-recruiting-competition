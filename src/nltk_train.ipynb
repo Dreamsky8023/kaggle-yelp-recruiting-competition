{
 "metadata": {
  "name": "nltk_train"
 },
 "nbformat": 3,
 "nbformat_minor": 0,
 "worksheets": [
  {
   "cells": [
    {
     "cell_type": "code",
     "collapsed": false,
     "input": [
      "import copper\n",
      "import numpy as np\n",
      "import pandas as pd\n",
      "import cPickle as pickle\n",
      "from nltk.tokenize import word_tokenize\n",
      "copper.project.path = '..'"
     ],
     "language": "python",
     "metadata": {},
     "outputs": [],
     "prompt_number": 5
    },
    {
     "cell_type": "code",
     "collapsed": false,
     "input": [
      "train = copper.read_csv('training/review.csv')"
     ],
     "language": "python",
     "metadata": {},
     "outputs": [],
     "prompt_number": 2
    },
    {
     "cell_type": "code",
     "collapsed": false,
     "input": [
      "train"
     ],
     "language": "python",
     "metadata": {},
     "outputs": [
      {
       "output_type": "pyout",
       "prompt_number": 3,
       "text": [
        "<class 'pandas.core.frame.DataFrame'>\n",
        "Int64Index: 229907 entries, 0 to 229906\n",
        "Data columns:\n",
        "business_id     229907  non-null values\n",
        "date            229907  non-null values\n",
        "review_id       229907  non-null values\n",
        "stars           229907  non-null values\n",
        "text            229901  non-null values\n",
        "type            229907  non-null values\n",
        "user_id         229907  non-null values\n",
        "votes_cool      229907  non-null values\n",
        "votes_funny     229907  non-null values\n",
        "votes_useful    229907  non-null values\n",
        "dtypes: int64(4), object(6)"
       ]
      }
     ],
     "prompt_number": 3
    },
    {
     "cell_type": "code",
     "collapsed": false,
     "input": [
      "clf = pickle.load(open('../clfs/movie_reviews_NaiveBayes.pickle'))"
     ],
     "language": "python",
     "metadata": {},
     "outputs": [],
     "prompt_number": 7
    },
    {
     "cell_type": "code",
     "collapsed": false,
     "input": [
      "prob_pos = pd.Series(index=train.index)"
     ],
     "language": "python",
     "metadata": {},
     "outputs": [],
     "prompt_number": 8
    },
    {
     "cell_type": "code",
     "collapsed": false,
     "input": [
      "for i, text in test['text'].iteritems():\n",
      "    words = word_tokenize(text)\n",
      "    feats = dict([(word, True) for word in words])\n",
      "    p = clf.prob_classify(feats)\n",
      "    prob_pos[i] = p.prob('pos')"
     ],
     "language": "python",
     "metadata": {},
     "outputs": [],
     "prompt_number": 32
    },
    {
     "cell_type": "code",
     "collapsed": false,
     "input": [
      "prob_pos.head()"
     ],
     "language": "python",
     "metadata": {},
     "outputs": [
      {
       "output_type": "pyout",
       "prompt_number": 33,
       "text": [
        "0    0.997725\n",
        "1    0.928523\n",
        "2    0.707490\n",
        "3    0.995313\n",
        "4    0.963198"
       ]
      }
     ],
     "prompt_number": 33
    },
    {
     "cell_type": "code",
     "collapsed": false,
     "input": [
      "prob_pos.tail()"
     ],
     "language": "python",
     "metadata": {},
     "outputs": [
      {
       "output_type": "pyout",
       "prompt_number": 34,
       "text": [
        "22951    0.870409\n",
        "22952    0.817811\n",
        "22953    0.999998\n",
        "22954    0.674818\n",
        "22955    0.883596"
       ]
      }
     ],
     "prompt_number": 34
    },
    {
     "cell_type": "code",
     "collapsed": false,
     "input": [
      "copper.save(prob_pos, 'review_sentiment.csv', to='training', index=False)"
     ],
     "language": "python",
     "metadata": {},
     "outputs": [],
     "prompt_number": 9
    },
    {
     "cell_type": "code",
     "collapsed": false,
     "input": [],
     "language": "python",
     "metadata": {},
     "outputs": []
    }
   ],
   "metadata": {}
  }
 ]
}