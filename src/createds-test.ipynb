{
 "metadata": {
  "name": "createds-test"
 },
 "nbformat": 3,
 "nbformat_minor": 0,
 "worksheets": [
  {
   "cells": [
    {
     "cell_type": "code",
     "collapsed": false,
     "input": [
      "import copper\n",
      "import numpy as np\n",
      "import pandas as pd\n",
      "copper.project.path = '..'"
     ],
     "language": "python",
     "metadata": {},
     "outputs": [],
     "prompt_number": 1
    },
    {
     "cell_type": "code",
     "collapsed": false,
     "input": [
      "users = copper.read_csv('test/user.csv')"
     ],
     "language": "python",
     "metadata": {},
     "outputs": [],
     "prompt_number": 2
    },
    {
     "cell_type": "code",
     "collapsed": false,
     "input": [
      "users"
     ],
     "language": "python",
     "metadata": {},
     "outputs": [
      {
       "output_type": "pyout",
       "prompt_number": 3,
       "text": [
        "<class 'pandas.core.frame.DataFrame'>\n",
        "Int64Index: 5105 entries, 0 to 5104\n",
        "Data columns:\n",
        "average_stars    5105  non-null values\n",
        "name             5105  non-null values\n",
        "review_count     5105  non-null values\n",
        "type             5105  non-null values\n",
        "user_id          5105  non-null values\n",
        "dtypes: float64(1), int64(1), object(3)"
       ]
      }
     ],
     "prompt_number": 3
    },
    {
     "cell_type": "code",
     "collapsed": false,
     "input": [
      "del users['name']\n",
      "del users['type']"
     ],
     "language": "python",
     "metadata": {},
     "outputs": [],
     "prompt_number": 4
    },
    {
     "cell_type": "code",
     "collapsed": false,
     "input": [
      "users.columns = ['user_%s' % col for col in users.columns]"
     ],
     "language": "python",
     "metadata": {},
     "outputs": [],
     "prompt_number": 5
    },
    {
     "cell_type": "code",
     "collapsed": false,
     "input": [
      "users['user_id'] = users['user_user_id']\n",
      "del users['user_user_id']"
     ],
     "language": "python",
     "metadata": {},
     "outputs": [],
     "prompt_number": 6
    },
    {
     "cell_type": "code",
     "collapsed": false,
     "input": [
      "users"
     ],
     "language": "python",
     "metadata": {},
     "outputs": [
      {
       "output_type": "pyout",
       "prompt_number": 7,
       "text": [
        "<class 'pandas.core.frame.DataFrame'>\n",
        "Int64Index: 5105 entries, 0 to 5104\n",
        "Data columns:\n",
        "user_average_stars    5105  non-null values\n",
        "user_review_count     5105  non-null values\n",
        "user_id               5105  non-null values\n",
        "dtypes: float64(1), int64(1), object(1)"
       ]
      }
     ],
     "prompt_number": 7
    },
    {
     "cell_type": "code",
     "collapsed": false,
     "input": [
      "business = copper.read_csv('test/business.csv')"
     ],
     "language": "python",
     "metadata": {},
     "outputs": [],
     "prompt_number": 8
    },
    {
     "cell_type": "code",
     "collapsed": false,
     "input": [
      "business"
     ],
     "language": "python",
     "metadata": {},
     "outputs": [
      {
       "output_type": "pyout",
       "prompt_number": 9,
       "text": [
        "<class 'pandas.core.frame.DataFrame'>\n",
        "Int64Index: 1205 entries, 0 to 1204\n",
        "Data columns:\n",
        "business_id      1205  non-null values\n",
        "categories       1175  non-null values\n",
        "city             1205  non-null values\n",
        "full_address     1205  non-null values\n",
        "latitude         1205  non-null values\n",
        "longitude        1205  non-null values\n",
        "name             1205  non-null values\n",
        "neighborhoods    0  non-null values\n",
        "open             1205  non-null values\n",
        "review_count     1205  non-null values\n",
        "stars            1205  non-null values\n",
        "state            1205  non-null values\n",
        "type             1205  non-null values\n",
        "dtypes: bool(1), float64(4), int64(1), object(7)"
       ]
      }
     ],
     "prompt_number": 9
    },
    {
     "cell_type": "code",
     "collapsed": false,
     "input": [
      "del business['name']\n",
      "del business['type']\n",
      "del business['neighborhoods']"
     ],
     "language": "python",
     "metadata": {},
     "outputs": [],
     "prompt_number": 10
    },
    {
     "cell_type": "code",
     "collapsed": false,
     "input": [
      "business.columns = ['business_%s' % col for col in business.columns]"
     ],
     "language": "python",
     "metadata": {},
     "outputs": [],
     "prompt_number": 11
    },
    {
     "cell_type": "code",
     "collapsed": false,
     "input": [
      "business['business_id'] = business['business_business_id']\n",
      "del business['business_business_id']"
     ],
     "language": "python",
     "metadata": {},
     "outputs": [],
     "prompt_number": 12
    },
    {
     "cell_type": "code",
     "collapsed": false,
     "input": [
      "business"
     ],
     "language": "python",
     "metadata": {},
     "outputs": [
      {
       "output_type": "pyout",
       "prompt_number": 13,
       "text": [
        "<class 'pandas.core.frame.DataFrame'>\n",
        "Int64Index: 1205 entries, 0 to 1204\n",
        "Data columns:\n",
        "business_categories      1175  non-null values\n",
        "business_city            1205  non-null values\n",
        "business_full_address    1205  non-null values\n",
        "business_latitude        1205  non-null values\n",
        "business_longitude       1205  non-null values\n",
        "business_open            1205  non-null values\n",
        "business_review_count    1205  non-null values\n",
        "business_stars           1205  non-null values\n",
        "business_state           1205  non-null values\n",
        "business_id              1205  non-null values\n",
        "dtypes: bool(1), float64(3), int64(1), object(5)"
       ]
      }
     ],
     "prompt_number": 13
    },
    {
     "cell_type": "heading",
     "level": 2,
     "metadata": {},
     "source": [
      "Sentiment and Join"
     ]
    },
    {
     "cell_type": "code",
     "collapsed": false,
     "input": [
      "review_sentiment = copper.read_csv('test/review_sentiment.csv')"
     ],
     "language": "python",
     "metadata": {},
     "outputs": [],
     "prompt_number": 14
    },
    {
     "cell_type": "code",
     "collapsed": false,
     "input": [
      "review_sentiment"
     ],
     "language": "python",
     "metadata": {},
     "outputs": [
      {
       "output_type": "pyout",
       "prompt_number": 15,
       "text": [
        "<class 'pandas.core.frame.DataFrame'>\n",
        "Int64Index: 22956 entries, 0 to 22955\n",
        "Data columns:\n",
        "pos    22956  non-null values\n",
        "dtypes: float64(1)"
       ]
      }
     ],
     "prompt_number": 15
    },
    {
     "cell_type": "code",
     "collapsed": false,
     "input": [
      "reviews = copper.read_csv('test/review.csv')"
     ],
     "language": "python",
     "metadata": {},
     "outputs": [],
     "prompt_number": 16
    },
    {
     "cell_type": "code",
     "collapsed": false,
     "input": [
      "reviews"
     ],
     "language": "python",
     "metadata": {},
     "outputs": [
      {
       "output_type": "pyout",
       "prompt_number": 17,
       "text": [
        "<class 'pandas.core.frame.DataFrame'>\n",
        "Int64Index: 22956 entries, 0 to 22955\n",
        "Data columns:\n",
        "business_id    22956  non-null values\n",
        "date           22956  non-null values\n",
        "review_id      22956  non-null values\n",
        "stars          22956  non-null values\n",
        "text           22956  non-null values\n",
        "type           22956  non-null values\n",
        "user_id        22956  non-null values\n",
        "dtypes: int64(1), object(6)"
       ]
      }
     ],
     "prompt_number": 17
    },
    {
     "cell_type": "code",
     "collapsed": false,
     "input": [
      "del reviews['type']"
     ],
     "language": "python",
     "metadata": {},
     "outputs": [],
     "prompt_number": 18
    },
    {
     "cell_type": "code",
     "collapsed": false,
     "input": [
      "del reviews['text']"
     ],
     "language": "python",
     "metadata": {},
     "outputs": [],
     "prompt_number": 19
    },
    {
     "cell_type": "code",
     "collapsed": false,
     "input": [
      "everything = pd.merge(reviews, users, on='user_id', how='outer')"
     ],
     "language": "python",
     "metadata": {},
     "outputs": [],
     "prompt_number": 20
    },
    {
     "cell_type": "code",
     "collapsed": false,
     "input": [
      "everything = pd.merge(everything, business, on='business_id', how='outer')"
     ],
     "language": "python",
     "metadata": {},
     "outputs": [],
     "prompt_number": 21
    },
    {
     "cell_type": "code",
     "collapsed": false,
     "input": [
      "everything = everything.join(review_sentiment, how='outer')"
     ],
     "language": "python",
     "metadata": {},
     "outputs": [],
     "prompt_number": 22
    },
    {
     "cell_type": "code",
     "collapsed": false,
     "input": [
      "everything"
     ],
     "language": "python",
     "metadata": {},
     "outputs": [
      {
       "output_type": "pyout",
       "prompt_number": 23,
       "text": [
        "<class 'pandas.core.frame.DataFrame'>\n",
        "Int64Index: 22956 entries, 0 to 22955\n",
        "Data columns:\n",
        "business_id              22956  non-null values\n",
        "date                     22956  non-null values\n",
        "review_id                22956  non-null values\n",
        "stars                    22956  non-null values\n",
        "user_id                  22956  non-null values\n",
        "user_average_stars       7661  non-null values\n",
        "user_review_count        7661  non-null values\n",
        "business_categories      10605  non-null values\n",
        "business_city            10702  non-null values\n",
        "business_full_address    10702  non-null values\n",
        "business_latitude        10702  non-null values\n",
        "business_longitude       10702  non-null values\n",
        "business_open            10702  non-null values\n",
        "business_review_count    10702  non-null values\n",
        "business_stars           10702  non-null values\n",
        "business_state           10702  non-null values\n",
        "pos                      22956  non-null values\n",
        "dtypes: float64(7), int64(1), object(9)"
       ]
      }
     ],
     "prompt_number": 23
    },
    {
     "cell_type": "code",
     "collapsed": false,
     "input": [
      "ds = copper.Dataset(everything)"
     ],
     "language": "python",
     "metadata": {},
     "outputs": [],
     "prompt_number": 24
    },
    {
     "cell_type": "code",
     "collapsed": false,
     "input": [
      "ds.role[['business_id', 'user_id', 'review_id']] = ds.ID"
     ],
     "language": "python",
     "metadata": {},
     "outputs": [],
     "prompt_number": 25
    },
    {
     "cell_type": "code",
     "collapsed": false,
     "input": [
      "ds.fillna()"
     ],
     "language": "python",
     "metadata": {},
     "outputs": [],
     "prompt_number": 26
    },
    {
     "cell_type": "code",
     "collapsed": false,
     "input": [
      "ds.percent_missing()"
     ],
     "language": "python",
     "metadata": {},
     "outputs": [
      {
       "output_type": "pyout",
       "prompt_number": 27,
       "text": [
        "pos                      0\n",
        "business_state           0\n",
        "business_stars           0\n",
        "business_review_count    0\n",
        "business_open            0\n",
        "business_longitude       0\n",
        "business_latitude        0\n",
        "business_full_address    0\n",
        "business_city            0\n",
        "business_categories      0\n",
        "user_review_count        0\n",
        "user_average_stars       0\n",
        "user_id                  0\n",
        "stars                    0\n",
        "review_id                0\n",
        "date                     0\n",
        "business_id              0"
       ]
      }
     ],
     "prompt_number": 27
    },
    {
     "cell_type": "code",
     "collapsed": false,
     "input": [
      "ds.metadata"
     ],
     "language": "python",
     "metadata": {},
     "outputs": [
      {
       "html": [
        "<div style=\"max-height:1000px;max-width:1500px;overflow:auto;\">\n",
        "<table border=\"1\" class=\"dataframe\">\n",
        "  <thead>\n",
        "    <tr style=\"text-align: right;\">\n",
        "      <th></th>\n",
        "      <th>Role</th>\n",
        "      <th>Type</th>\n",
        "      <th>dtype</th>\n",
        "    </tr>\n",
        "  </thead>\n",
        "  <tbody>\n",
        "    <tr>\n",
        "      <th>business_id</th>\n",
        "      <td>    ID</td>\n",
        "      <td> Category</td>\n",
        "      <td>  object</td>\n",
        "    </tr>\n",
        "    <tr>\n",
        "      <th>date</th>\n",
        "      <td> Input</td>\n",
        "      <td> Category</td>\n",
        "      <td>  object</td>\n",
        "    </tr>\n",
        "    <tr>\n",
        "      <th>review_id</th>\n",
        "      <td>    ID</td>\n",
        "      <td> Category</td>\n",
        "      <td>  object</td>\n",
        "    </tr>\n",
        "    <tr>\n",
        "      <th>stars</th>\n",
        "      <td> Input</td>\n",
        "      <td>   Number</td>\n",
        "      <td>   int64</td>\n",
        "    </tr>\n",
        "    <tr>\n",
        "      <th>user_id</th>\n",
        "      <td>    ID</td>\n",
        "      <td> Category</td>\n",
        "      <td>  object</td>\n",
        "    </tr>\n",
        "    <tr>\n",
        "      <th>user_average_stars</th>\n",
        "      <td> Input</td>\n",
        "      <td>   Number</td>\n",
        "      <td> float64</td>\n",
        "    </tr>\n",
        "    <tr>\n",
        "      <th>user_review_count</th>\n",
        "      <td> Input</td>\n",
        "      <td>   Number</td>\n",
        "      <td> float64</td>\n",
        "    </tr>\n",
        "    <tr>\n",
        "      <th>business_categories</th>\n",
        "      <td> Input</td>\n",
        "      <td> Category</td>\n",
        "      <td>  object</td>\n",
        "    </tr>\n",
        "    <tr>\n",
        "      <th>business_city</th>\n",
        "      <td> Input</td>\n",
        "      <td> Category</td>\n",
        "      <td>  object</td>\n",
        "    </tr>\n",
        "    <tr>\n",
        "      <th>business_full_address</th>\n",
        "      <td> Input</td>\n",
        "      <td> Category</td>\n",
        "      <td>  object</td>\n",
        "    </tr>\n",
        "    <tr>\n",
        "      <th>business_latitude</th>\n",
        "      <td> Input</td>\n",
        "      <td>   Number</td>\n",
        "      <td> float64</td>\n",
        "    </tr>\n",
        "    <tr>\n",
        "      <th>business_longitude</th>\n",
        "      <td> Input</td>\n",
        "      <td>   Number</td>\n",
        "      <td> float64</td>\n",
        "    </tr>\n",
        "    <tr>\n",
        "      <th>business_open</th>\n",
        "      <td> Input</td>\n",
        "      <td> Category</td>\n",
        "      <td>  object</td>\n",
        "    </tr>\n",
        "    <tr>\n",
        "      <th>business_review_count</th>\n",
        "      <td> Input</td>\n",
        "      <td>   Number</td>\n",
        "      <td> float64</td>\n",
        "    </tr>\n",
        "    <tr>\n",
        "      <th>business_stars</th>\n",
        "      <td> Input</td>\n",
        "      <td>   Number</td>\n",
        "      <td> float64</td>\n",
        "    </tr>\n",
        "    <tr>\n",
        "      <th>business_state</th>\n",
        "      <td> Input</td>\n",
        "      <td> Category</td>\n",
        "      <td>  object</td>\n",
        "    </tr>\n",
        "    <tr>\n",
        "      <th>pos</th>\n",
        "      <td> Input</td>\n",
        "      <td>   Number</td>\n",
        "      <td> float64</td>\n",
        "    </tr>\n",
        "  </tbody>\n",
        "</table>\n",
        "</div>"
       ],
       "output_type": "pyout",
       "prompt_number": 28,
       "text": [
        "                        Role      Type    dtype\n",
        "business_id               ID  Category   object\n",
        "date                   Input  Category   object\n",
        "review_id                 ID  Category   object\n",
        "stars                  Input    Number    int64\n",
        "user_id                   ID  Category   object\n",
        "user_average_stars     Input    Number  float64\n",
        "user_review_count      Input    Number  float64\n",
        "business_categories    Input  Category   object\n",
        "business_city          Input  Category   object\n",
        "business_full_address  Input  Category   object\n",
        "business_latitude      Input    Number  float64\n",
        "business_longitude     Input    Number  float64\n",
        "business_open          Input  Category   object\n",
        "business_review_count  Input    Number  float64\n",
        "business_stars         Input    Number  float64\n",
        "business_state         Input  Category   object\n",
        "pos                    Input    Number  float64"
       ]
      }
     ],
     "prompt_number": 28
    },
    {
     "cell_type": "code",
     "collapsed": false,
     "input": [
      "ds.save('test.ds')"
     ],
     "language": "python",
     "metadata": {},
     "outputs": [],
     "prompt_number": 29
    },
    {
     "cell_type": "heading",
     "level": 2,
     "metadata": {},
     "source": [
      "Sentiment with API"
     ]
    },
    {
     "cell_type": "code",
     "collapsed": false,
     "input": [
      "review_sentiment = copper.read_csv('test/review_sentiment_api.csv')"
     ],
     "language": "python",
     "metadata": {},
     "outputs": []
    },
    {
     "cell_type": "code",
     "collapsed": false,
     "input": [
      "review_sentiment"
     ],
     "language": "python",
     "metadata": {},
     "outputs": [
      {
       "output_type": "pyout",
       "prompt_number": 71,
       "text": [
        "<class 'pandas.core.frame.DataFrame'>\n",
        "Int64Index: 9967 entries, 0 to 9966\n",
        "Data columns:\n",
        "label    9967  non-null values\n",
        "p_neg    9967  non-null values\n",
        "p_pos    9967  non-null values\n",
        "p_neu    9967  non-null values\n",
        "dtypes: float64(3), object(1)"
       ]
      }
     ],
     "prompt_number": 71
    },
    {
     "cell_type": "code",
     "collapsed": false,
     "input": [
      "everything = pd.merge(reviews, users, on='user_id', how='outer')"
     ],
     "language": "python",
     "metadata": {},
     "outputs": [],
     "prompt_number": 72
    },
    {
     "cell_type": "code",
     "collapsed": false,
     "input": [
      "everything = pd.merge(everything, business, on='business_id', how='outer')"
     ],
     "language": "python",
     "metadata": {},
     "outputs": [],
     "prompt_number": 73
    },
    {
     "cell_type": "code",
     "collapsed": false,
     "input": [
      "everything = everything.join(review_sentiment, how='outer')"
     ],
     "language": "python",
     "metadata": {},
     "outputs": [],
     "prompt_number": 74
    },
    {
     "cell_type": "code",
     "collapsed": false,
     "input": [
      "everything.dropna()"
     ],
     "language": "python",
     "metadata": {},
     "outputs": [
      {
       "output_type": "pyout",
       "prompt_number": 76,
       "text": [
        "<class 'pandas.core.frame.DataFrame'>\n",
        "Int64Index: 9414 entries, 0 to 9966\n",
        "Data columns:\n",
        "business_id              9414  non-null values\n",
        "date                     9414  non-null values\n",
        "review_id                9414  non-null values\n",
        "stars                    9414  non-null values\n",
        "user_id                  9414  non-null values\n",
        "votes_cool               9414  non-null values\n",
        "votes_funny              9414  non-null values\n",
        "votes_useful             9414  non-null values\n",
        "user_average_stars       9414  non-null values\n",
        "user_review_count        9414  non-null values\n",
        "user_votes_cool          9414  non-null values\n",
        "user_votes_funny         9414  non-null values\n",
        "user_votes_useful        9414  non-null values\n",
        "business_categories      9414  non-null values\n",
        "business_city            9414  non-null values\n",
        "business_full_address    9414  non-null values\n",
        "business_latitude        9414  non-null values\n",
        "business_longitude       9414  non-null values\n",
        "business_open            9414  non-null values\n",
        "business_review_count    9414  non-null values\n",
        "business_stars           9414  non-null values\n",
        "business_state           9414  non-null values\n",
        "label                    9414  non-null values\n",
        "p_neg                    9414  non-null values\n",
        "p_pos                    9414  non-null values\n",
        "p_neu                    9414  non-null values\n",
        "dtypes: bool(1), float64(11), int64(5), object(9)"
       ]
      }
     ],
     "prompt_number": 76
    },
    {
     "cell_type": "code",
     "collapsed": false,
     "input": [
      "everything = everything.dropna()"
     ],
     "language": "python",
     "metadata": {},
     "outputs": [],
     "prompt_number": 77
    },
    {
     "cell_type": "code",
     "collapsed": false,
     "input": [
      "ds = copper.Dataset(everything)"
     ],
     "language": "python",
     "metadata": {},
     "outputs": [],
     "prompt_number": 78
    },
    {
     "cell_type": "code",
     "collapsed": false,
     "input": [
      "ds.role[['business_id', 'user_id', 'review_id']] = ds.ID"
     ],
     "language": "python",
     "metadata": {},
     "outputs": [],
     "prompt_number": 79
    },
    {
     "cell_type": "code",
     "collapsed": false,
     "input": [
      "ds.fillna()"
     ],
     "language": "python",
     "metadata": {},
     "outputs": [],
     "prompt_number": 49
    },
    {
     "cell_type": "code",
     "collapsed": false,
     "input": [
      "ds.percent_missing()"
     ],
     "language": "python",
     "metadata": {},
     "outputs": [
      {
       "output_type": "pyout",
       "prompt_number": 50,
       "text": [
        "pos                      0\n",
        "business_state           0\n",
        "business_stars           0\n",
        "business_review_count    0\n",
        "business_open            0\n",
        "business_longitude       0\n",
        "business_latitude        0\n",
        "business_full_address    0\n",
        "business_city            0\n",
        "business_categories      0\n",
        "user_review_count        0\n",
        "user_average_stars       0\n",
        "user_id                  0\n",
        "stars                    0\n",
        "review_id                0\n",
        "date                     0\n",
        "business_id              0"
       ]
      }
     ],
     "prompt_number": 50
    },
    {
     "cell_type": "code",
     "collapsed": false,
     "input": [
      "ds.metadata.tail()"
     ],
     "language": "python",
     "metadata": {},
     "outputs": [
      {
       "html": [
        "<div style=\"max-height:1000px;max-width:1500px;overflow:auto;\">\n",
        "<table border=\"1\" class=\"dataframe\">\n",
        "  <thead>\n",
        "    <tr style=\"text-align: right;\">\n",
        "      <th></th>\n",
        "      <th>Role</th>\n",
        "      <th>Type</th>\n",
        "      <th>dtype</th>\n",
        "    </tr>\n",
        "  </thead>\n",
        "  <tbody>\n",
        "    <tr>\n",
        "      <th>business_state</th>\n",
        "      <td> Input</td>\n",
        "      <td> Category</td>\n",
        "      <td>  object</td>\n",
        "    </tr>\n",
        "    <tr>\n",
        "      <th>label</th>\n",
        "      <td> Input</td>\n",
        "      <td> Category</td>\n",
        "      <td>  object</td>\n",
        "    </tr>\n",
        "    <tr>\n",
        "      <th>p_neg</th>\n",
        "      <td> Input</td>\n",
        "      <td>   Number</td>\n",
        "      <td> float64</td>\n",
        "    </tr>\n",
        "    <tr>\n",
        "      <th>p_pos</th>\n",
        "      <td> Input</td>\n",
        "      <td>   Number</td>\n",
        "      <td> float64</td>\n",
        "    </tr>\n",
        "    <tr>\n",
        "      <th>p_neu</th>\n",
        "      <td> Input</td>\n",
        "      <td>   Number</td>\n",
        "      <td> float64</td>\n",
        "    </tr>\n",
        "  </tbody>\n",
        "</table>\n",
        "</div>"
       ],
       "output_type": "pyout",
       "prompt_number": 81,
       "text": [
        "                 Role      Type    dtype\n",
        "business_state  Input  Category   object\n",
        "label           Input  Category   object\n",
        "p_neg           Input    Number  float64\n",
        "p_pos           Input    Number  float64\n",
        "p_neu           Input    Number  float64"
       ]
      }
     ],
     "prompt_number": 81
    },
    {
     "cell_type": "code",
     "collapsed": false,
     "input": [
      "ds.save('train-api.ds')"
     ],
     "language": "python",
     "metadata": {},
     "outputs": [],
     "prompt_number": 82
    },
    {
     "cell_type": "code",
     "collapsed": false,
     "input": [],
     "language": "python",
     "metadata": {},
     "outputs": []
    }
   ],
   "metadata": {}
  }
 ]
}