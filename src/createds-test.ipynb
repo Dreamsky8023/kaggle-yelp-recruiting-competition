{
 "metadata": {
  "name": "createds-test"
 },
 "nbformat": 3,
 "nbformat_minor": 0,
 "worksheets": [
  {
   "cells": [
    {
     "cell_type": "code",
     "collapsed": false,
     "input": [
      "import copper\n",
      "import numpy as np\n",
      "import pandas as pd\n",
      "copper.project.path = '..'"
     ],
     "language": "python",
     "metadata": {},
     "outputs": [],
     "prompt_number": 1
    },
    {
     "cell_type": "code",
     "collapsed": false,
     "input": [
      "users = copper.read_csv('test/user.csv')"
     ],
     "language": "python",
     "metadata": {},
     "outputs": [],
     "prompt_number": 2
    },
    {
     "cell_type": "code",
     "collapsed": false,
     "input": [
      "users"
     ],
     "language": "python",
     "metadata": {},
     "outputs": [
      {
       "output_type": "pyout",
       "prompt_number": 3,
       "text": [
        "<class 'pandas.core.frame.DataFrame'>\n",
        "Int64Index: 5105 entries, 0 to 5104\n",
        "Data columns:\n",
        "average_stars    5105  non-null values\n",
        "name             5105  non-null values\n",
        "review_count     5105  non-null values\n",
        "type             5105  non-null values\n",
        "user_id          5105  non-null values\n",
        "dtypes: float64(1), int64(1), object(3)"
       ]
      }
     ],
     "prompt_number": 3
    },
    {
     "cell_type": "code",
     "collapsed": false,
     "input": [
      "del users['name']\n",
      "del users['type']"
     ],
     "language": "python",
     "metadata": {},
     "outputs": [],
     "prompt_number": 4
    },
    {
     "cell_type": "code",
     "collapsed": false,
     "input": [
      "users.columns = ['user_%s' % col for col in users.columns]"
     ],
     "language": "python",
     "metadata": {},
     "outputs": [],
     "prompt_number": 5
    },
    {
     "cell_type": "code",
     "collapsed": false,
     "input": [
      "users['user_id'] = users['user_user_id']\n",
      "del users['user_user_id']"
     ],
     "language": "python",
     "metadata": {},
     "outputs": [],
     "prompt_number": 6
    },
    {
     "cell_type": "code",
     "collapsed": false,
     "input": [
      "users"
     ],
     "language": "python",
     "metadata": {},
     "outputs": [
      {
       "output_type": "pyout",
       "prompt_number": 7,
       "text": [
        "<class 'pandas.core.frame.DataFrame'>\n",
        "Int64Index: 5105 entries, 0 to 5104\n",
        "Data columns:\n",
        "user_average_stars    5105  non-null values\n",
        "user_review_count     5105  non-null values\n",
        "user_id               5105  non-null values\n",
        "dtypes: float64(1), int64(1), object(1)"
       ]
      }
     ],
     "prompt_number": 7
    },
    {
     "cell_type": "code",
     "collapsed": false,
     "input": [
      "business = copper.read_csv('test/business.csv')"
     ],
     "language": "python",
     "metadata": {},
     "outputs": [],
     "prompt_number": 8
    },
    {
     "cell_type": "code",
     "collapsed": false,
     "input": [
      "business"
     ],
     "language": "python",
     "metadata": {},
     "outputs": [
      {
       "output_type": "pyout",
       "prompt_number": 9,
       "text": [
        "<class 'pandas.core.frame.DataFrame'>\n",
        "Int64Index: 1205 entries, 0 to 1204\n",
        "Data columns:\n",
        "business_id      1205  non-null values\n",
        "categories       1175  non-null values\n",
        "city             1205  non-null values\n",
        "full_address     1205  non-null values\n",
        "latitude         1205  non-null values\n",
        "longitude        1205  non-null values\n",
        "name             1205  non-null values\n",
        "neighborhoods    0  non-null values\n",
        "open             1205  non-null values\n",
        "review_count     1205  non-null values\n",
        "stars            1205  non-null values\n",
        "state            1205  non-null values\n",
        "type             1205  non-null values\n",
        "dtypes: bool(1), float64(4), int64(1), object(7)"
       ]
      }
     ],
     "prompt_number": 9
    },
    {
     "cell_type": "code",
     "collapsed": false,
     "input": [
      "del business['name']\n",
      "del business['type']\n",
      "del business['neighborhoods']"
     ],
     "language": "python",
     "metadata": {},
     "outputs": [],
     "prompt_number": 10
    },
    {
     "cell_type": "code",
     "collapsed": false,
     "input": [
      "business.columns = ['business_%s' % col for col in business.columns]"
     ],
     "language": "python",
     "metadata": {},
     "outputs": [],
     "prompt_number": 11
    },
    {
     "cell_type": "code",
     "collapsed": false,
     "input": [
      "business['business_id'] = business['business_business_id']\n",
      "del business['business_business_id']"
     ],
     "language": "python",
     "metadata": {},
     "outputs": [],
     "prompt_number": 12
    },
    {
     "cell_type": "code",
     "collapsed": false,
     "input": [
      "business"
     ],
     "language": "python",
     "metadata": {},
     "outputs": [
      {
       "output_type": "pyout",
       "prompt_number": 13,
       "text": [
        "<class 'pandas.core.frame.DataFrame'>\n",
        "Int64Index: 1205 entries, 0 to 1204\n",
        "Data columns:\n",
        "business_categories      1175  non-null values\n",
        "business_city            1205  non-null values\n",
        "business_full_address    1205  non-null values\n",
        "business_latitude        1205  non-null values\n",
        "business_longitude       1205  non-null values\n",
        "business_open            1205  non-null values\n",
        "business_review_count    1205  non-null values\n",
        "business_stars           1205  non-null values\n",
        "business_state           1205  non-null values\n",
        "business_id              1205  non-null values\n",
        "dtypes: bool(1), float64(3), int64(1), object(5)"
       ]
      }
     ],
     "prompt_number": 13
    },
    {
     "cell_type": "code",
     "collapsed": false,
     "input": [
      "reviews = copper.read_csv('test/review.csv')"
     ],
     "language": "python",
     "metadata": {},
     "outputs": [],
     "prompt_number": 20
    },
    {
     "cell_type": "code",
     "collapsed": false,
     "input": [
      "reviews"
     ],
     "language": "python",
     "metadata": {},
     "outputs": [
      {
       "output_type": "pyout",
       "prompt_number": 21,
       "text": [
        "<class 'pandas.core.frame.DataFrame'>\n",
        "Int64Index: 22956 entries, 0 to 22955\n",
        "Data columns:\n",
        "business_id    22956  non-null values\n",
        "date           22956  non-null values\n",
        "review_id      22956  non-null values\n",
        "stars          22956  non-null values\n",
        "text           22956  non-null values\n",
        "type           22956  non-null values\n",
        "user_id        22956  non-null values\n",
        "dtypes: int64(1), object(6)"
       ]
      }
     ],
     "prompt_number": 21
    },
    {
     "cell_type": "code",
     "collapsed": false,
     "input": [
      "del reviews['type']"
     ],
     "language": "python",
     "metadata": {},
     "outputs": [],
     "prompt_number": 22
    },
    {
     "cell_type": "code",
     "collapsed": false,
     "input": [
      "reviews = pd.merge(reviews, users, on='user_id', how='outer')"
     ],
     "language": "python",
     "metadata": {},
     "outputs": [],
     "prompt_number": 24
    },
    {
     "cell_type": "code",
     "collapsed": false,
     "input": [
      "reviews = pd.merge(reviews, business, on='business_id', how='outer')"
     ],
     "language": "python",
     "metadata": {},
     "outputs": [],
     "prompt_number": 26
    },
    {
     "cell_type": "code",
     "collapsed": false,
     "input": [
      "reviews"
     ],
     "language": "python",
     "metadata": {},
     "outputs": [
      {
       "output_type": "pyout",
       "prompt_number": 27,
       "text": [
        "<class 'pandas.core.frame.DataFrame'>\n",
        "Int64Index: 22956 entries, 0 to 22955\n",
        "Data columns:\n",
        "business_id              22956  non-null values\n",
        "date                     22956  non-null values\n",
        "review_id                22956  non-null values\n",
        "stars                    22956  non-null values\n",
        "text                     22956  non-null values\n",
        "user_id                  22956  non-null values\n",
        "user_average_stars       7661  non-null values\n",
        "user_review_count        7661  non-null values\n",
        "business_categories      10605  non-null values\n",
        "business_city            10702  non-null values\n",
        "business_full_address    10702  non-null values\n",
        "business_latitude        10702  non-null values\n",
        "business_longitude       10702  non-null values\n",
        "business_open            10702  non-null values\n",
        "business_review_count    10702  non-null values\n",
        "business_stars           10702  non-null values\n",
        "business_state           10702  non-null values\n",
        "dtypes: float64(6), int64(1), object(10)"
       ]
      }
     ],
     "prompt_number": 27
    },
    {
     "cell_type": "code",
     "collapsed": false,
     "input": [
      "del reviews['business_id']\n",
      "del reviews['user_id']\n",
      "del reviews['review_id']"
     ],
     "language": "python",
     "metadata": {},
     "outputs": [],
     "prompt_number": 28
    },
    {
     "cell_type": "code",
     "collapsed": false,
     "input": [
      "ds = copper.Dataset(reviews)"
     ],
     "language": "python",
     "metadata": {},
     "outputs": [],
     "prompt_number": 29
    },
    {
     "cell_type": "code",
     "collapsed": false,
     "input": [
      "ds.metadata"
     ],
     "language": "python",
     "metadata": {},
     "outputs": [
      {
       "html": [
        "<div style=\"max-height:1000px;max-width:1500px;overflow:auto;\">\n",
        "<table border=\"1\" class=\"dataframe\">\n",
        "  <thead>\n",
        "    <tr style=\"text-align: right;\">\n",
        "      <th></th>\n",
        "      <th>Role</th>\n",
        "      <th>Type</th>\n",
        "      <th>dtype</th>\n",
        "    </tr>\n",
        "  </thead>\n",
        "  <tbody>\n",
        "    <tr>\n",
        "      <th>date</th>\n",
        "      <td> Input</td>\n",
        "      <td> Category</td>\n",
        "      <td>  object</td>\n",
        "    </tr>\n",
        "    <tr>\n",
        "      <th>stars</th>\n",
        "      <td> Input</td>\n",
        "      <td>   Number</td>\n",
        "      <td>   int64</td>\n",
        "    </tr>\n",
        "    <tr>\n",
        "      <th>text</th>\n",
        "      <td> Input</td>\n",
        "      <td> Category</td>\n",
        "      <td>  object</td>\n",
        "    </tr>\n",
        "    <tr>\n",
        "      <th>user_average_stars</th>\n",
        "      <td> Input</td>\n",
        "      <td>   Number</td>\n",
        "      <td> float64</td>\n",
        "    </tr>\n",
        "    <tr>\n",
        "      <th>user_review_count</th>\n",
        "      <td> Input</td>\n",
        "      <td>   Number</td>\n",
        "      <td> float64</td>\n",
        "    </tr>\n",
        "    <tr>\n",
        "      <th>business_categories</th>\n",
        "      <td> Input</td>\n",
        "      <td> Category</td>\n",
        "      <td>  object</td>\n",
        "    </tr>\n",
        "    <tr>\n",
        "      <th>business_city</th>\n",
        "      <td> Input</td>\n",
        "      <td> Category</td>\n",
        "      <td>  object</td>\n",
        "    </tr>\n",
        "    <tr>\n",
        "      <th>business_full_address</th>\n",
        "      <td> Input</td>\n",
        "      <td> Category</td>\n",
        "      <td>  object</td>\n",
        "    </tr>\n",
        "    <tr>\n",
        "      <th>business_latitude</th>\n",
        "      <td> Input</td>\n",
        "      <td>   Number</td>\n",
        "      <td> float64</td>\n",
        "    </tr>\n",
        "    <tr>\n",
        "      <th>business_longitude</th>\n",
        "      <td> Input</td>\n",
        "      <td>   Number</td>\n",
        "      <td> float64</td>\n",
        "    </tr>\n",
        "    <tr>\n",
        "      <th>business_open</th>\n",
        "      <td> Input</td>\n",
        "      <td> Category</td>\n",
        "      <td>  object</td>\n",
        "    </tr>\n",
        "    <tr>\n",
        "      <th>business_review_count</th>\n",
        "      <td> Input</td>\n",
        "      <td>   Number</td>\n",
        "      <td> float64</td>\n",
        "    </tr>\n",
        "    <tr>\n",
        "      <th>business_stars</th>\n",
        "      <td> Input</td>\n",
        "      <td>   Number</td>\n",
        "      <td> float64</td>\n",
        "    </tr>\n",
        "    <tr>\n",
        "      <th>business_state</th>\n",
        "      <td> Input</td>\n",
        "      <td> Category</td>\n",
        "      <td>  object</td>\n",
        "    </tr>\n",
        "  </tbody>\n",
        "</table>\n",
        "</div>"
       ],
       "output_type": "pyout",
       "prompt_number": 30,
       "text": [
        "                        Role      Type    dtype\n",
        "date                   Input  Category   object\n",
        "stars                  Input    Number    int64\n",
        "text                   Input  Category   object\n",
        "user_average_stars     Input    Number  float64\n",
        "user_review_count      Input    Number  float64\n",
        "business_categories    Input  Category   object\n",
        "business_city          Input  Category   object\n",
        "business_full_address  Input  Category   object\n",
        "business_latitude      Input    Number  float64\n",
        "business_longitude     Input    Number  float64\n",
        "business_open          Input  Category   object\n",
        "business_review_count  Input    Number  float64\n",
        "business_stars         Input    Number  float64\n",
        "business_state         Input  Category   object"
       ]
      }
     ],
     "prompt_number": 30
    },
    {
     "cell_type": "code",
     "collapsed": false,
     "input": [
      "ds.percent_missing()"
     ],
     "language": "python",
     "metadata": {},
     "outputs": [
      {
       "output_type": "pyout",
       "prompt_number": 35,
       "text": [
        "business_state           0\n",
        "business_stars           0\n",
        "business_review_count    0\n",
        "business_open            0\n",
        "business_longitude       0\n",
        "business_latitude        0\n",
        "business_full_address    0\n",
        "business_city            0\n",
        "business_categories      0\n",
        "user_review_count        0\n",
        "user_average_stars       0\n",
        "text                     0\n",
        "stars                    0\n",
        "date                     0"
       ]
      }
     ],
     "prompt_number": 35
    },
    {
     "cell_type": "code",
     "collapsed": false,
     "input": [
      "ds.fillna()"
     ],
     "language": "python",
     "metadata": {},
     "outputs": [],
     "prompt_number": 34
    },
    {
     "cell_type": "code",
     "collapsed": false,
     "input": [
      "ds.save('test.ds')"
     ],
     "language": "python",
     "metadata": {},
     "outputs": [],
     "prompt_number": 36
    },
    {
     "cell_type": "code",
     "collapsed": false,
     "input": [],
     "language": "python",
     "metadata": {},
     "outputs": []
    }
   ],
   "metadata": {}
  }
 ]
}