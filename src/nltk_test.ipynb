{
 "metadata": {
  "name": "nltk_test"
 },
 "nbformat": 3,
 "nbformat_minor": 0,
 "worksheets": [
  {
   "cells": [
    {
     "cell_type": "code",
     "collapsed": false,
     "input": [
      "import copper\n",
      "import numpy as np\n",
      "import pandas as pd\n",
      "import cPickle as pickle\n",
      "from nltk.tokenize import word_tokenize\n",
      "copper.project.path = '..'"
     ],
     "language": "python",
     "metadata": {},
     "outputs": [],
     "prompt_number": 14
    },
    {
     "cell_type": "code",
     "collapsed": false,
     "input": [
      "test = copper.read_csv('test/review.csv')"
     ],
     "language": "python",
     "metadata": {},
     "outputs": [],
     "prompt_number": 6
    },
    {
     "cell_type": "code",
     "collapsed": false,
     "input": [
      "test"
     ],
     "language": "python",
     "metadata": {},
     "outputs": [
      {
       "output_type": "pyout",
       "prompt_number": 7,
       "text": [
        "<class 'pandas.core.frame.DataFrame'>\n",
        "Int64Index: 22956 entries, 0 to 22955\n",
        "Data columns:\n",
        "business_id    22956  non-null values\n",
        "date           22956  non-null values\n",
        "review_id      22956  non-null values\n",
        "stars          22956  non-null values\n",
        "text           22956  non-null values\n",
        "type           22956  non-null values\n",
        "user_id        22956  non-null values\n",
        "dtypes: int64(1), object(6)"
       ]
      }
     ],
     "prompt_number": 7
    },
    {
     "cell_type": "code",
     "collapsed": false,
     "input": [
      "clf = pickle.load(open('../clfs/movie_reviews_NaiveBayes.pickle'))"
     ],
     "language": "python",
     "metadata": {},
     "outputs": [],
     "prompt_number": 10
    },
    {
     "cell_type": "code",
     "collapsed": false,
     "input": [
      "prob_pos = pd.Series(index=test.index)"
     ],
     "language": "python",
     "metadata": {},
     "outputs": [],
     "prompt_number": 29
    },
    {
     "cell_type": "code",
     "collapsed": false,
     "input": [
      "for i, text in test['text'].iteritems():\n",
      "    words = word_tokenize(text)\n",
      "    feats = dict([(word, True) for word in words])\n",
      "    p = clf.prob_classify(feats)\n",
      "    prob_pos[i] = p.prob('pos')"
     ],
     "language": "python",
     "metadata": {},
     "outputs": [],
     "prompt_number": 32
    },
    {
     "cell_type": "code",
     "collapsed": false,
     "input": [
      "prob_pos.head()"
     ],
     "language": "python",
     "metadata": {},
     "outputs": [
      {
       "output_type": "pyout",
       "prompt_number": 33,
       "text": [
        "0    0.997725\n",
        "1    0.928523\n",
        "2    0.707490\n",
        "3    0.995313\n",
        "4    0.963198"
       ]
      }
     ],
     "prompt_number": 33
    },
    {
     "cell_type": "code",
     "collapsed": false,
     "input": [
      "prob_pos.tail()"
     ],
     "language": "python",
     "metadata": {},
     "outputs": [
      {
       "output_type": "pyout",
       "prompt_number": 34,
       "text": [
        "22951    0.870409\n",
        "22952    0.817811\n",
        "22953    0.999998\n",
        "22954    0.674818\n",
        "22955    0.883596"
       ]
      }
     ],
     "prompt_number": 34
    },
    {
     "cell_type": "code",
     "collapsed": false,
     "input": [
      "copper.save(prob_pos, 'review_sentiment.csv', to='test', index=False)"
     ],
     "language": "python",
     "metadata": {},
     "outputs": [],
     "prompt_number": 35
    },
    {
     "cell_type": "code",
     "collapsed": false,
     "input": [],
     "language": "python",
     "metadata": {},
     "outputs": []
    }
   ],
   "metadata": {}
  }
 ]
}