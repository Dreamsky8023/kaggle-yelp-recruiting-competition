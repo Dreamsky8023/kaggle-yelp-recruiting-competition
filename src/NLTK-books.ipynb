{
 "metadata": {
  "name": "NLTK-books"
 },
 "nbformat": 3,
 "nbformat_minor": 0,
 "worksheets": [
  {
   "cells": [
    {
     "cell_type": "code",
     "collapsed": false,
     "input": [
      "import collections\n",
      "import nltk.classify.util\n",
      "from nltk.classify import NaiveBayesClassifier\n",
      "from nltk.corpus import movie_reviews\n",
      "from nltk.tokenize import word_tokenize\n",
      "\n",
      "import pandas as pd"
     ],
     "language": "python",
     "metadata": {},
     "outputs": [],
     "prompt_number": 12
    },
    {
     "cell_type": "code",
     "collapsed": false,
     "input": [
      "def word_feats(words):\n",
      "    return dict([(word, True) for word in words])"
     ],
     "language": "python",
     "metadata": {},
     "outputs": [],
     "prompt_number": 2
    },
    {
     "cell_type": "code",
     "collapsed": false,
     "input": [
      "negids = movie_reviews.fileids('neg')\n",
      "posids = movie_reviews.fileids('pos')"
     ],
     "language": "python",
     "metadata": {},
     "outputs": [],
     "prompt_number": 3
    },
    {
     "cell_type": "code",
     "collapsed": false,
     "input": [
      "movie_reviews.words(fileids=[negids[0]])"
     ],
     "language": "python",
     "metadata": {},
     "outputs": [
      {
       "output_type": "pyout",
       "prompt_number": 4,
       "text": [
        "['plot', ':', 'two', 'teen', 'couples', 'go', 'to', ...]"
       ]
      }
     ],
     "prompt_number": 4
    },
    {
     "cell_type": "code",
     "collapsed": false,
     "input": [
      "books = pd.read_table('../data/books.csv')"
     ],
     "language": "python",
     "metadata": {},
     "outputs": [],
     "prompt_number": 10
    },
    {
     "cell_type": "code",
     "collapsed": false,
     "input": [
      "books[books.clf == 1]"
     ],
     "language": "python",
     "metadata": {},
     "outputs": [
      {
       "output_type": "pyout",
       "prompt_number": 17,
       "text": [
        "<class 'pandas.core.frame.DataFrame'>\n",
        "Int64Index: 3943 entries, 0 to 3942\n",
        "Data columns:\n",
        "clf     3943  non-null values\n",
        "text    3943  non-null values\n",
        "dtypes: int64(1), object(1)"
       ]
      }
     ],
     "prompt_number": 17
    },
    {
     "cell_type": "heading",
     "level": 2,
     "metadata": {},
     "source": []
    },
    {
     "cell_type": "code",
     "collapsed": false,
     "input": [
      "def create_clf(featx):\n",
      "    negids = books[books.clf == 0]\n",
      "    posids = books[books.clf == 1]\n",
      "    \n",
      "    negfeats = [(featx(word_tokenize(row['text'])), 'neg') for index, row in negids.iterrows()]\n",
      "    posfeats = [(featx(word_tokenize(row['text'])), 'pos') for index, row in posids.iterrows()]\n",
      "    \n",
      "    negcutoff = len(negfeats)*3/4\n",
      "    poscutoff = len(posfeats)*3/4\n",
      "\n",
      "    trainfeats = negfeats[:negcutoff] + posfeats[:poscutoff]\n",
      "    testfeats = negfeats[negcutoff:] + posfeats[poscutoff:]\n",
      "\n",
      "    classifier = NaiveBayesClassifier.train(trainfeats)\n",
      "    return classifier, testfeats"
     ],
     "language": "python",
     "metadata": {},
     "outputs": [],
     "prompt_number": 34
    },
    {
     "cell_type": "code",
     "collapsed": false,
     "input": [
      "create_clf(word_feats)"
     ],
     "language": "python",
     "metadata": {},
     "outputs": [
      {
       "ename": "NameError",
       "evalue": "global name 'posfeats' is not defined",
       "output_type": "pyerr",
       "traceback": [
        "\u001b[1;31m---------------------------------------------------------------------------\u001b[0m\n\u001b[1;31mNameError\u001b[0m                                 Traceback (most recent call last)",
        "\u001b[1;32m<ipython-input-33-53faf7c00bbb>\u001b[0m in \u001b[0;36m<module>\u001b[1;34m()\u001b[0m\n\u001b[1;32m----> 1\u001b[1;33m \u001b[0mcreate_clf\u001b[0m\u001b[1;33m(\u001b[0m\u001b[0mword_feats\u001b[0m\u001b[1;33m)\u001b[0m\u001b[1;33m\u001b[0m\u001b[0m\n\u001b[0m",
        "\u001b[1;32m<ipython-input-32-3c8680ab9efd>\u001b[0m in \u001b[0;36mcreate_clf\u001b[1;34m(featx)\u001b[0m\n\u001b[0;32m      7\u001b[0m \u001b[1;33m\u001b[0m\u001b[0m\n\u001b[0;32m      8\u001b[0m     \u001b[0mnegcutoff\u001b[0m \u001b[1;33m=\u001b[0m \u001b[0mlen\u001b[0m\u001b[1;33m(\u001b[0m\u001b[0mnegfeats\u001b[0m\u001b[1;33m)\u001b[0m\u001b[1;33m*\u001b[0m\u001b[1;36m3\u001b[0m\u001b[1;33m/\u001b[0m\u001b[1;36m4\u001b[0m\u001b[1;33m\u001b[0m\u001b[0m\n\u001b[1;32m----> 9\u001b[1;33m     \u001b[0mposcutoff\u001b[0m \u001b[1;33m=\u001b[0m \u001b[0mlen\u001b[0m\u001b[1;33m(\u001b[0m\u001b[0mposfeats\u001b[0m\u001b[1;33m)\u001b[0m\u001b[1;33m*\u001b[0m\u001b[1;36m3\u001b[0m\u001b[1;33m/\u001b[0m\u001b[1;36m4\u001b[0m\u001b[1;33m\u001b[0m\u001b[0m\n\u001b[0m\u001b[0;32m     10\u001b[0m \u001b[1;33m\u001b[0m\u001b[0m\n\u001b[0;32m     11\u001b[0m     \u001b[0mtrainfeats\u001b[0m \u001b[1;33m=\u001b[0m \u001b[0mnegfeats\u001b[0m\u001b[1;33m[\u001b[0m\u001b[1;33m:\u001b[0m\u001b[0mnegcutoff\u001b[0m\u001b[1;33m]\u001b[0m \u001b[1;33m+\u001b[0m \u001b[0mposfeats\u001b[0m\u001b[1;33m[\u001b[0m\u001b[1;33m:\u001b[0m\u001b[0mposcutoff\u001b[0m\u001b[1;33m]\u001b[0m\u001b[1;33m\u001b[0m\u001b[0m\n",
        "\u001b[1;31mNameError\u001b[0m: global name 'posfeats' is not defined"
       ]
      }
     ],
     "prompt_number": 33
    },
    {
     "cell_type": "code",
     "collapsed": false,
     "input": [
      "def eval_clf(clf, testfeats):\n",
      "    refsets = collections.defaultdict(set)\n",
      "    testsets = collections.defaultdict(set)\n",
      "    \n",
      "    for i, (feats, label) in enumerate(testfeats):\n",
      "        refsets[label].add(i)\n",
      "        observed = classifier.classify(feats)\n",
      "        testsets[observed].add(i)\n",
      "        \n",
      "    print 'accuracy:', nltk.classify.util.accuracy(classifier, testfeats)\n",
      "    print 'pos precision:', nltk.metrics.precision(refsets['pos'], testsets['pos'])\n",
      "    print 'pos recall:', nltk.metrics.recall(refsets['pos'], testsets['pos'])\n",
      "    print 'pos F-measure:', nltk.metrics.f_measure(refsets['pos'], testsets['pos'])\n",
      "    print 'neg precision:', nltk.metrics.precision(refsets['neg'], testsets['neg'])\n",
      "    print 'neg recall:', nltk.metrics.recall(refsets['neg'], testsets['neg'])\n",
      "    print 'neg F-measure:', nltk.metrics.f_measure(refsets['neg'], testsets['neg'])"
     ],
     "language": "python",
     "metadata": {},
     "outputs": [],
     "prompt_number": 38
    },
    {
     "cell_type": "heading",
     "level": 2,
     "metadata": {},
     "source": [
      "Alone"
     ]
    },
    {
     "cell_type": "code",
     "collapsed": false,
     "input": [
      "def word_feats(words):\n",
      "    return dict([(word, True) for word in words])"
     ],
     "language": "python",
     "metadata": {},
     "outputs": [],
     "prompt_number": 35
    },
    {
     "cell_type": "code",
     "collapsed": false,
     "input": [
      "classifier, testfeats = create_clf(word_feats)"
     ],
     "language": "python",
     "metadata": {},
     "outputs": [],
     "prompt_number": 36
    },
    {
     "cell_type": "code",
     "collapsed": false,
     "input": [
      "eval_clf(classifier, testfeats)"
     ],
     "language": "python",
     "metadata": {},
     "outputs": [
      {
       "output_type": "stream",
       "stream": "stdout",
       "text": [
        "accuracy: "
       ]
      },
      {
       "output_type": "stream",
       "stream": "stdout",
       "text": [
        "0.447976878613\n",
        "pos precision: 1.0\n",
        "pos recall: 0.0314401622718\n",
        "pos F-measure: 0.0609636184857\n",
        "neg precision: 0.437904649794\n",
        "neg recall: 1.0\n",
        "neg F-measure: 0.609087187884\n"
       ]
      }
     ],
     "prompt_number": 39
    },
    {
     "cell_type": "code",
     "collapsed": false,
     "input": [
      "classifier.show_most_informative_features()"
     ],
     "language": "python",
     "metadata": {},
     "outputs": [
      {
       "output_type": "stream",
       "stream": "stdout",
       "text": [
        "Most Informative Features\n",
        "                  sucked = True              neg : pos    =    368.0 : 1.0"
       ]
      },
      {
       "output_type": "stream",
       "stream": "stdout",
       "text": [
        "\n",
        "                 awesome = True              pos : neg    =    283.5 : 1.0\n",
        "                     guy = True              neg : pos    =    143.6 : 1.0\n",
        "                    hate = True              neg : pos    =    102.7 : 1.0\n",
        "                    love = True              pos : neg    =     81.5 : 1.0\n",
        "                     gay = True              neg : pos    =     77.3 : 1.0\n",
        "                    does = True              neg : pos    =     75.5 : 1.0\n",
        "                  person = True              neg : pos    =     75.5 : 1.0\n",
        "                   knows = True              neg : pos    =     72.9 : 1.0\n",
        "                  around = True              neg : pos    =     72.9 : 1.0\n"
       ]
      }
     ],
     "prompt_number": 40
    },
    {
     "cell_type": "heading",
     "level": 3,
     "metadata": {},
     "source": [
      "Stopwords"
     ]
    },
    {
     "cell_type": "code",
     "collapsed": false,
     "input": [
      "from nltk.corpus import stopwords"
     ],
     "language": "python",
     "metadata": {},
     "outputs": [],
     "prompt_number": 41
    },
    {
     "cell_type": "code",
     "collapsed": false,
     "input": [
      "stopset = set(stopwords.words('english'))"
     ],
     "language": "python",
     "metadata": {},
     "outputs": [],
     "prompt_number": 42
    },
    {
     "cell_type": "code",
     "collapsed": false,
     "input": [
      "def stopword_filtered_word_feats(words):\n",
      "    return dict([(word, True) for word in words if word not in stopset])"
     ],
     "language": "python",
     "metadata": {},
     "outputs": [],
     "prompt_number": 48
    },
    {
     "cell_type": "code",
     "collapsed": false,
     "input": [
      "classifier, testfeats = create_clf(stopword_filtered_word_feats)"
     ],
     "language": "python",
     "metadata": {},
     "outputs": [],
     "prompt_number": 49
    },
    {
     "cell_type": "code",
     "collapsed": false,
     "input": [
      "eval_clf(classifier, testfeats)"
     ],
     "language": "python",
     "metadata": {},
     "outputs": [
      {
       "output_type": "stream",
       "stream": "stdout",
       "text": [
        "accuracy: "
       ]
      },
      {
       "output_type": "stream",
       "stream": "stdout",
       "text": [
        "0.447398843931\n",
        "pos precision: 1.0\n",
        "pos recall: 0.0304259634888\n",
        "pos F-measure: 0.0590551181102\n",
        "neg precision: 0.437647058824\n",
        "neg recall: 1.0\n",
        "neg F-measure: 0.60883797054\n"
       ]
      }
     ],
     "prompt_number": 50
    },
    {
     "cell_type": "code",
     "collapsed": false,
     "input": [],
     "language": "python",
     "metadata": {},
     "outputs": []
    }
   ],
   "metadata": {}
  }
 ]
}